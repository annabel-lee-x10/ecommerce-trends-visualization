{
 "cells": [
  {
   "cell_type": "markdown",
   "id": "4cc0f1cf",
   "metadata": {
    "papermill": {
     "duration": 0.00707,
     "end_time": "2023-12-18T04:28:39.666968",
     "exception": false,
     "start_time": "2023-12-18T04:28:39.659898",
     "status": "completed"
    },
    "tags": []
   },
   "source": [
    "# **Overview**\n",
    "\n",
    "### Holidays are upon us, and whatever the current circumstances, gifts of any form hopefully helps us feel better. This looks at the shopping trends, focusing mainly on the various factors those can influence the purchase amounts and consequently, the incomes.\n",
    "\n",
    "### Contents:\n",
    "\n",
    "1. **Import Required Libraries [1]**\n",
    "2. **Load the Datasets [2]**\n",
    "3. **Perform Exploratory Data Anlysis [3-54]**\n",
    "4. **Clean the Data**\n",
    "5. **Visualize Data[55-65]**\n",
    "6. **Key Insights**"
   ]
  },
  {
   "cell_type": "markdown",
   "id": "bfeb4590",
   "metadata": {
    "papermill": {
     "duration": 0.005976,
     "end_time": "2023-12-18T04:28:39.679603",
     "exception": false,
     "start_time": "2023-12-18T04:28:39.673627",
     "status": "completed"
    },
    "tags": []
   },
   "source": [
    "Import Required Libraries"
   ]
  },
  {
   "cell_type": "code",
   "execution_count": 1,
   "id": "ec301c95",
   "metadata": {
    "execution": {
     "iopub.execute_input": "2023-12-18T04:28:39.694089Z",
     "iopub.status.busy": "2023-12-18T04:28:39.693678Z",
     "iopub.status.idle": "2023-12-18T04:28:41.465691Z",
     "shell.execute_reply": "2023-12-18T04:28:41.464085Z"
    },
    "papermill": {
     "duration": 1.78337,
     "end_time": "2023-12-18T04:28:41.469012",
     "exception": false,
     "start_time": "2023-12-18T04:28:39.685642",
     "status": "completed"
    },
    "tags": []
   },
   "outputs": [
    {
     "name": "stdout",
     "output_type": "stream",
     "text": [
      "/kaggle/input/consumer-behavior-and-shopping-habits-dataset/shopping_behavior_updated.csv\n",
      "/kaggle/input/consumer-behavior-and-shopping-habits-dataset/shopping_trends.csv\n"
     ]
    }
   ],
   "source": [
    "import numpy as np\n",
    "import pandas as pd\n",
    "from pandas.api.types import CategoricalDtype\n",
    "\n",
    "import seaborn as sns\n",
    "\n",
    "import os\n",
    "for dirname, _, filenames in os.walk('/kaggle/input'):\n",
    "    for filename in filenames:\n",
    "        print(os.path.join(dirname, filename))\n",
    "        \n",
    "        \n",
    "palette = 'Spectral'\n",
    "sns.set_palette(palette = palette)"
   ]
  },
  {
   "cell_type": "markdown",
   "id": "9e1c9556",
   "metadata": {
    "papermill": {
     "duration": 0.006581,
     "end_time": "2023-12-18T04:28:41.482424",
     "exception": false,
     "start_time": "2023-12-18T04:28:41.475843",
     "status": "completed"
    },
    "tags": []
   },
   "source": [
    "Load the DatasetsLoad the Datasets\n",
    "\n",
    "We had added the above dataset from Kaggle for analysis. Now let's read it into a dataframe."
   ]
  },
  {
   "cell_type": "code",
   "execution_count": 2,
   "id": "da74f2d2",
   "metadata": {
    "execution": {
     "iopub.execute_input": "2023-12-18T04:28:41.497857Z",
     "iopub.status.busy": "2023-12-18T04:28:41.497344Z",
     "iopub.status.idle": "2023-12-18T04:28:41.560921Z",
     "shell.execute_reply": "2023-12-18T04:28:41.560032Z"
    },
    "papermill": {
     "duration": 0.073862,
     "end_time": "2023-12-18T04:28:41.563024",
     "exception": false,
     "start_time": "2023-12-18T04:28:41.489162",
     "status": "completed"
    },
    "tags": []
   },
   "outputs": [
    {
     "data": {
      "text/html": [
       "<div>\n",
       "<style scoped>\n",
       "    .dataframe tbody tr th:only-of-type {\n",
       "        vertical-align: middle;\n",
       "    }\n",
       "\n",
       "    .dataframe tbody tr th {\n",
       "        vertical-align: top;\n",
       "    }\n",
       "\n",
       "    .dataframe thead th {\n",
       "        text-align: right;\n",
       "    }\n",
       "</style>\n",
       "<table border=\"1\" class=\"dataframe\">\n",
       "  <thead>\n",
       "    <tr style=\"text-align: right;\">\n",
       "      <th></th>\n",
       "      <th>Customer ID</th>\n",
       "      <th>Age</th>\n",
       "      <th>Gender</th>\n",
       "      <th>Item Purchased</th>\n",
       "      <th>Category</th>\n",
       "      <th>Purchase Amount (USD)</th>\n",
       "      <th>Location</th>\n",
       "      <th>Size</th>\n",
       "      <th>Color</th>\n",
       "      <th>Season</th>\n",
       "      <th>Review Rating</th>\n",
       "      <th>Subscription Status</th>\n",
       "      <th>Shipping Type</th>\n",
       "      <th>Discount Applied</th>\n",
       "      <th>Promo Code Used</th>\n",
       "      <th>Previous Purchases</th>\n",
       "      <th>Payment Method</th>\n",
       "      <th>Frequency of Purchases</th>\n",
       "    </tr>\n",
       "  </thead>\n",
       "  <tbody>\n",
       "    <tr>\n",
       "      <th>0</th>\n",
       "      <td>1</td>\n",
       "      <td>55</td>\n",
       "      <td>Male</td>\n",
       "      <td>Blouse</td>\n",
       "      <td>Clothing</td>\n",
       "      <td>53</td>\n",
       "      <td>Kentucky</td>\n",
       "      <td>L</td>\n",
       "      <td>Gray</td>\n",
       "      <td>Winter</td>\n",
       "      <td>3.1</td>\n",
       "      <td>Yes</td>\n",
       "      <td>Express</td>\n",
       "      <td>Yes</td>\n",
       "      <td>Yes</td>\n",
       "      <td>14</td>\n",
       "      <td>Venmo</td>\n",
       "      <td>Fortnightly</td>\n",
       "    </tr>\n",
       "    <tr>\n",
       "      <th>1</th>\n",
       "      <td>2</td>\n",
       "      <td>19</td>\n",
       "      <td>Male</td>\n",
       "      <td>Sweater</td>\n",
       "      <td>Clothing</td>\n",
       "      <td>64</td>\n",
       "      <td>Maine</td>\n",
       "      <td>L</td>\n",
       "      <td>Maroon</td>\n",
       "      <td>Winter</td>\n",
       "      <td>3.1</td>\n",
       "      <td>Yes</td>\n",
       "      <td>Express</td>\n",
       "      <td>Yes</td>\n",
       "      <td>Yes</td>\n",
       "      <td>2</td>\n",
       "      <td>Cash</td>\n",
       "      <td>Fortnightly</td>\n",
       "    </tr>\n",
       "    <tr>\n",
       "      <th>2</th>\n",
       "      <td>3</td>\n",
       "      <td>50</td>\n",
       "      <td>Male</td>\n",
       "      <td>Jeans</td>\n",
       "      <td>Clothing</td>\n",
       "      <td>73</td>\n",
       "      <td>Massachusetts</td>\n",
       "      <td>S</td>\n",
       "      <td>Maroon</td>\n",
       "      <td>Spring</td>\n",
       "      <td>3.1</td>\n",
       "      <td>Yes</td>\n",
       "      <td>Free Shipping</td>\n",
       "      <td>Yes</td>\n",
       "      <td>Yes</td>\n",
       "      <td>23</td>\n",
       "      <td>Credit Card</td>\n",
       "      <td>Weekly</td>\n",
       "    </tr>\n",
       "    <tr>\n",
       "      <th>3</th>\n",
       "      <td>4</td>\n",
       "      <td>21</td>\n",
       "      <td>Male</td>\n",
       "      <td>Sandals</td>\n",
       "      <td>Footwear</td>\n",
       "      <td>90</td>\n",
       "      <td>Rhode Island</td>\n",
       "      <td>M</td>\n",
       "      <td>Maroon</td>\n",
       "      <td>Spring</td>\n",
       "      <td>3.5</td>\n",
       "      <td>Yes</td>\n",
       "      <td>Next Day Air</td>\n",
       "      <td>Yes</td>\n",
       "      <td>Yes</td>\n",
       "      <td>49</td>\n",
       "      <td>PayPal</td>\n",
       "      <td>Weekly</td>\n",
       "    </tr>\n",
       "    <tr>\n",
       "      <th>4</th>\n",
       "      <td>5</td>\n",
       "      <td>45</td>\n",
       "      <td>Male</td>\n",
       "      <td>Blouse</td>\n",
       "      <td>Clothing</td>\n",
       "      <td>49</td>\n",
       "      <td>Oregon</td>\n",
       "      <td>M</td>\n",
       "      <td>Turquoise</td>\n",
       "      <td>Spring</td>\n",
       "      <td>2.7</td>\n",
       "      <td>Yes</td>\n",
       "      <td>Free Shipping</td>\n",
       "      <td>Yes</td>\n",
       "      <td>Yes</td>\n",
       "      <td>31</td>\n",
       "      <td>PayPal</td>\n",
       "      <td>Annually</td>\n",
       "    </tr>\n",
       "  </tbody>\n",
       "</table>\n",
       "</div>"
      ],
      "text/plain": [
       "   Customer ID  Age Gender Item Purchased  Category  Purchase Amount (USD)  \\\n",
       "0            1   55   Male         Blouse  Clothing                     53   \n",
       "1            2   19   Male        Sweater  Clothing                     64   \n",
       "2            3   50   Male          Jeans  Clothing                     73   \n",
       "3            4   21   Male        Sandals  Footwear                     90   \n",
       "4            5   45   Male         Blouse  Clothing                     49   \n",
       "\n",
       "        Location Size      Color  Season  Review Rating Subscription Status  \\\n",
       "0       Kentucky    L       Gray  Winter            3.1                 Yes   \n",
       "1          Maine    L     Maroon  Winter            3.1                 Yes   \n",
       "2  Massachusetts    S     Maroon  Spring            3.1                 Yes   \n",
       "3   Rhode Island    M     Maroon  Spring            3.5                 Yes   \n",
       "4         Oregon    M  Turquoise  Spring            2.7                 Yes   \n",
       "\n",
       "   Shipping Type Discount Applied Promo Code Used  Previous Purchases  \\\n",
       "0        Express              Yes             Yes                  14   \n",
       "1        Express              Yes             Yes                   2   \n",
       "2  Free Shipping              Yes             Yes                  23   \n",
       "3   Next Day Air              Yes             Yes                  49   \n",
       "4  Free Shipping              Yes             Yes                  31   \n",
       "\n",
       "  Payment Method Frequency of Purchases  \n",
       "0          Venmo            Fortnightly  \n",
       "1           Cash            Fortnightly  \n",
       "2    Credit Card                 Weekly  \n",
       "3         PayPal                 Weekly  \n",
       "4         PayPal               Annually  "
      ]
     },
     "execution_count": 2,
     "metadata": {},
     "output_type": "execute_result"
    }
   ],
   "source": [
    "shopping_behavior = pd.read_csv('/kaggle/input/consumer-behavior-and-shopping-habits-dataset/shopping_behavior_updated.csv')\n",
    "\n",
    "shopping_behavior.head()"
   ]
  },
  {
   "cell_type": "markdown",
   "id": "e737aad5",
   "metadata": {
    "papermill": {
     "duration": 0.00649,
     "end_time": "2023-12-18T04:28:41.576380",
     "exception": false,
     "start_time": "2023-12-18T04:28:41.569890",
     "status": "completed"
    },
    "tags": []
   },
   "source": [
    "Perform Exploratory Data AnlysisPerform Exploratory Data Anlysis"
   ]
  },
  {
   "cell_type": "code",
   "execution_count": 3,
   "id": "a05bc7b3",
   "metadata": {
    "execution": {
     "iopub.execute_input": "2023-12-18T04:28:41.593556Z",
     "iopub.status.busy": "2023-12-18T04:28:41.592558Z",
     "iopub.status.idle": "2023-12-18T04:28:41.711775Z",
     "shell.execute_reply": "2023-12-18T04:28:41.710366Z"
    },
    "papermill": {
     "duration": 0.130624,
     "end_time": "2023-12-18T04:28:41.714423",
     "exception": false,
     "start_time": "2023-12-18T04:28:41.583799",
     "status": "completed"
    },
    "tags": []
   },
   "outputs": [
    {
     "name": "stdout",
     "output_type": "stream",
     "text": [
      "<class 'pandas.core.frame.DataFrame'>\n",
      "RangeIndex: 3900 entries, 0 to 3899\n",
      "Data columns (total 18 columns):\n",
      " #   Column                  Non-Null Count  Dtype  \n",
      "---  ------                  --------------  -----  \n",
      " 0   Customer ID             3900 non-null   int64  \n",
      " 1   Age                     3900 non-null   int64  \n",
      " 2   Gender                  3900 non-null   object \n",
      " 3   Item Purchased          3900 non-null   object \n",
      " 4   Category                3900 non-null   object \n",
      " 5   Purchase Amount (USD)   3900 non-null   int64  \n",
      " 6   Location                3900 non-null   object \n",
      " 7   Size                    3900 non-null   object \n",
      " 8   Color                   3900 non-null   object \n",
      " 9   Season                  3900 non-null   object \n",
      " 10  Review Rating           3900 non-null   float64\n",
      " 11  Subscription Status     3900 non-null   object \n",
      " 12  Shipping Type           3900 non-null   object \n",
      " 13  Discount Applied        3900 non-null   object \n",
      " 14  Promo Code Used         3900 non-null   object \n",
      " 15  Previous Purchases      3900 non-null   int64  \n",
      " 16  Payment Method          3900 non-null   object \n",
      " 17  Frequency of Purchases  3900 non-null   object \n",
      "dtypes: float64(1), int64(4), object(13)\n",
      "memory usage: 548.6+ KB\n"
     ]
    }
   ],
   "source": [
    "shopping_behavior.info()"
   ]
  },
  {
   "cell_type": "code",
   "execution_count": 4,
   "id": "cc8c36d4",
   "metadata": {
    "execution": {
     "iopub.execute_input": "2023-12-18T04:28:41.730734Z",
     "iopub.status.busy": "2023-12-18T04:28:41.730083Z",
     "iopub.status.idle": "2023-12-18T04:28:41.759024Z",
     "shell.execute_reply": "2023-12-18T04:28:41.757594Z"
    },
    "papermill": {
     "duration": 0.040401,
     "end_time": "2023-12-18T04:28:41.761908",
     "exception": false,
     "start_time": "2023-12-18T04:28:41.721507",
     "status": "completed"
    },
    "tags": []
   },
   "outputs": [
    {
     "data": {
      "text/html": [
       "<div>\n",
       "<style scoped>\n",
       "    .dataframe tbody tr th:only-of-type {\n",
       "        vertical-align: middle;\n",
       "    }\n",
       "\n",
       "    .dataframe tbody tr th {\n",
       "        vertical-align: top;\n",
       "    }\n",
       "\n",
       "    .dataframe thead th {\n",
       "        text-align: right;\n",
       "    }\n",
       "</style>\n",
       "<table border=\"1\" class=\"dataframe\">\n",
       "  <thead>\n",
       "    <tr style=\"text-align: right;\">\n",
       "      <th></th>\n",
       "      <th>Customer ID</th>\n",
       "      <th>Age</th>\n",
       "      <th>Purchase Amount (USD)</th>\n",
       "      <th>Review Rating</th>\n",
       "      <th>Previous Purchases</th>\n",
       "    </tr>\n",
       "  </thead>\n",
       "  <tbody>\n",
       "    <tr>\n",
       "      <th>count</th>\n",
       "      <td>3900.000000</td>\n",
       "      <td>3900.000000</td>\n",
       "      <td>3900.000000</td>\n",
       "      <td>3900.000000</td>\n",
       "      <td>3900.000000</td>\n",
       "    </tr>\n",
       "    <tr>\n",
       "      <th>mean</th>\n",
       "      <td>1950.500000</td>\n",
       "      <td>44.068462</td>\n",
       "      <td>59.764359</td>\n",
       "      <td>3.749949</td>\n",
       "      <td>25.351538</td>\n",
       "    </tr>\n",
       "    <tr>\n",
       "      <th>std</th>\n",
       "      <td>1125.977353</td>\n",
       "      <td>15.207589</td>\n",
       "      <td>23.685392</td>\n",
       "      <td>0.716223</td>\n",
       "      <td>14.447125</td>\n",
       "    </tr>\n",
       "    <tr>\n",
       "      <th>min</th>\n",
       "      <td>1.000000</td>\n",
       "      <td>18.000000</td>\n",
       "      <td>20.000000</td>\n",
       "      <td>2.500000</td>\n",
       "      <td>1.000000</td>\n",
       "    </tr>\n",
       "    <tr>\n",
       "      <th>25%</th>\n",
       "      <td>975.750000</td>\n",
       "      <td>31.000000</td>\n",
       "      <td>39.000000</td>\n",
       "      <td>3.100000</td>\n",
       "      <td>13.000000</td>\n",
       "    </tr>\n",
       "    <tr>\n",
       "      <th>50%</th>\n",
       "      <td>1950.500000</td>\n",
       "      <td>44.000000</td>\n",
       "      <td>60.000000</td>\n",
       "      <td>3.700000</td>\n",
       "      <td>25.000000</td>\n",
       "    </tr>\n",
       "    <tr>\n",
       "      <th>75%</th>\n",
       "      <td>2925.250000</td>\n",
       "      <td>57.000000</td>\n",
       "      <td>81.000000</td>\n",
       "      <td>4.400000</td>\n",
       "      <td>38.000000</td>\n",
       "    </tr>\n",
       "    <tr>\n",
       "      <th>max</th>\n",
       "      <td>3900.000000</td>\n",
       "      <td>70.000000</td>\n",
       "      <td>100.000000</td>\n",
       "      <td>5.000000</td>\n",
       "      <td>50.000000</td>\n",
       "    </tr>\n",
       "  </tbody>\n",
       "</table>\n",
       "</div>"
      ],
      "text/plain": [
       "       Customer ID          Age  Purchase Amount (USD)  Review Rating  \\\n",
       "count  3900.000000  3900.000000            3900.000000    3900.000000   \n",
       "mean   1950.500000    44.068462              59.764359       3.749949   \n",
       "std    1125.977353    15.207589              23.685392       0.716223   \n",
       "min       1.000000    18.000000              20.000000       2.500000   \n",
       "25%     975.750000    31.000000              39.000000       3.100000   \n",
       "50%    1950.500000    44.000000              60.000000       3.700000   \n",
       "75%    2925.250000    57.000000              81.000000       4.400000   \n",
       "max    3900.000000    70.000000             100.000000       5.000000   \n",
       "\n",
       "       Previous Purchases  \n",
       "count         3900.000000  \n",
       "mean            25.351538  \n",
       "std             14.447125  \n",
       "min              1.000000  \n",
       "25%             13.000000  \n",
       "50%             25.000000  \n",
       "75%             38.000000  \n",
       "max             50.000000  "
      ]
     },
     "execution_count": 4,
     "metadata": {},
     "output_type": "execute_result"
    }
   ],
   "source": [
    "shopping_behavior.describe()"
   ]
  },
  {
   "cell_type": "markdown",
   "id": "5f356ecc",
   "metadata": {
    "papermill": {
     "duration": 0.006583,
     "end_time": "2023-12-18T04:28:41.775737",
     "exception": false,
     "start_time": "2023-12-18T04:28:41.769154",
     "status": "completed"
    },
    "tags": []
   },
   "source": [
    "Let's check for duplicate values"
   ]
  },
  {
   "cell_type": "code",
   "execution_count": 5,
   "id": "836ffec7",
   "metadata": {
    "execution": {
     "iopub.execute_input": "2023-12-18T04:28:41.791709Z",
     "iopub.status.busy": "2023-12-18T04:28:41.791335Z",
     "iopub.status.idle": "2023-12-18T04:28:41.809889Z",
     "shell.execute_reply": "2023-12-18T04:28:41.807993Z"
    },
    "papermill": {
     "duration": 0.02969,
     "end_time": "2023-12-18T04:28:41.812426",
     "exception": false,
     "start_time": "2023-12-18T04:28:41.782736",
     "status": "completed"
    },
    "tags": []
   },
   "outputs": [
    {
     "data": {
      "text/plain": [
       "0"
      ]
     },
     "execution_count": 5,
     "metadata": {},
     "output_type": "execute_result"
    }
   ],
   "source": [
    "shopping_behavior.duplicated().sum()"
   ]
  },
  {
   "cell_type": "markdown",
   "id": "1c204257",
   "metadata": {
    "papermill": {
     "duration": 0.00727,
     "end_time": "2023-12-18T04:28:41.827197",
     "exception": false,
     "start_time": "2023-12-18T04:28:41.819927",
     "status": "completed"
    },
    "tags": []
   },
   "source": [
    "Good, there seems to be no duplicate values.\n",
    "\n",
    "Let's also look if they are any null values"
   ]
  },
  {
   "cell_type": "code",
   "execution_count": 6,
   "id": "c233d6c6",
   "metadata": {
    "execution": {
     "iopub.execute_input": "2023-12-18T04:28:41.845528Z",
     "iopub.status.busy": "2023-12-18T04:28:41.844881Z",
     "iopub.status.idle": "2023-12-18T04:28:41.854148Z",
     "shell.execute_reply": "2023-12-18T04:28:41.852706Z"
    },
    "papermill": {
     "duration": 0.021568,
     "end_time": "2023-12-18T04:28:41.856914",
     "exception": false,
     "start_time": "2023-12-18T04:28:41.835346",
     "status": "completed"
    },
    "tags": []
   },
   "outputs": [
    {
     "data": {
      "text/plain": [
       "False"
      ]
     },
     "execution_count": 6,
     "metadata": {},
     "output_type": "execute_result"
    }
   ],
   "source": [
    "shopping_behavior.isnull().values.any()"
   ]
  },
  {
   "cell_type": "markdown",
   "id": "5819fd71",
   "metadata": {
    "papermill": {
     "duration": 0.007189,
     "end_time": "2023-12-18T04:28:41.871937",
     "exception": false,
     "start_time": "2023-12-18T04:28:41.864748",
     "status": "completed"
    },
    "tags": []
   },
   "source": [
    "Good, there are no null values as well. Otherwise we will need to handle them. Now lets move on.\n",
    "\n",
    "Next we will typical wish to check out unique values / catgories of the key attributes we are interested in."
   ]
  },
  {
   "cell_type": "code",
   "execution_count": 7,
   "id": "83c93d4b",
   "metadata": {
    "execution": {
     "iopub.execute_input": "2023-12-18T04:28:41.888404Z",
     "iopub.status.busy": "2023-12-18T04:28:41.888061Z",
     "iopub.status.idle": "2023-12-18T04:28:42.129587Z",
     "shell.execute_reply": "2023-12-18T04:28:42.127884Z"
    },
    "papermill": {
     "duration": 0.253,
     "end_time": "2023-12-18T04:28:42.132378",
     "exception": false,
     "start_time": "2023-12-18T04:28:41.879378",
     "status": "completed"
    },
    "tags": []
   },
   "outputs": [
    {
     "data": {
      "text/plain": [
       "<Axes: xlabel='Category'>"
      ]
     },
     "execution_count": 7,
     "metadata": {},
     "output_type": "execute_result"
    },
    {
     "data": {
      "image/png": "[encoded data removed]",
      "text/plain": [
       "<Figure size 640x480 with 1 Axes>"
      ]
     },
     "metadata": {},
     "output_type": "display_data"
    }
   ],
   "source": [
    "shopping_behavior['Category'].value_counts().plot(kind='bar')"
   ]
  },
  {
   "cell_type": "code",
   "execution_count": 8,
   "id": "45aaba6d",
   "metadata": {
    "execution": {
     "iopub.execute_input": "2023-12-18T04:28:42.150099Z",
     "iopub.status.busy": "2023-12-18T04:28:42.149730Z",
     "iopub.status.idle": "2023-12-18T04:28:42.315150Z",
     "shell.execute_reply": "2023-12-18T04:28:42.314324Z"
    },
    "papermill": {
     "duration": 0.176504,
     "end_time": "2023-12-18T04:28:42.316937",
     "exception": false,
     "start_time": "2023-12-18T04:28:42.140433",
     "status": "completed"
    },
    "tags": []
   },
   "outputs": [
    {
     "data": {
      "text/plain": [
       "<Axes: xlabel='Season'>"
      ]
     },
     "execution_count": 8,
     "metadata": {},
     "output_type": "execute_result"
    },
    {
     "data": {
      "image/png": "[encoded data removed]",
      "text/plain": [
       "<Figure size 640x480 with 1 Axes>"
      ]
     },
     "metadata": {},
     "output_type": "display_data"
    }
   ],
   "source": [
    "shopping_behavior['Season'].value_counts().plot(kind='bar')"
   ]
  },
  {
   "cell_type": "code",
   "execution_count": 9,
   "id": "7ea7a2bd",
   "metadata": {
    "execution": {
     "iopub.execute_input": "2023-12-18T04:28:42.335097Z",
     "iopub.status.busy": "2023-12-18T04:28:42.334657Z",
     "iopub.status.idle": "2023-12-18T04:28:42.555496Z",
     "shell.execute_reply": "2023-12-18T04:28:42.554044Z"
    },
    "papermill": {
     "duration": 0.23316,
     "end_time": "2023-12-18T04:28:42.558228",
     "exception": false,
     "start_time": "2023-12-18T04:28:42.325068",
     "status": "completed"
    },
    "tags": []
   },
   "outputs": [
    {
     "data": {
      "text/plain": [
       "<Axes: xlabel='Payment Method'>"
      ]
     },
     "execution_count": 9,
     "metadata": {},
     "output_type": "execute_result"
    },
    {
     "data": {
      "image/png": "[encoded data removed]",
      "text/plain": [
       "<Figure size 640x480 with 1 Axes>"
      ]
     },
     "metadata": {},
     "output_type": "display_data"
    }
   ],
   "source": [
    "shopping_behavior['Payment Method'].value_counts().plot(kind='bar')"
   ]
  },
  {
   "cell_type": "markdown",
   "id": "5a6ae2da",
   "metadata": {
    "papermill": {
     "duration": 0.007985,
     "end_time": "2023-12-18T04:28:42.575345",
     "exception": false,
     "start_time": "2023-12-18T04:28:42.567360",
     "status": "completed"
    },
    "tags": []
   },
   "source": [
    "Let's group the above into categories for our analysis"
   ]
  },
  {
   "cell_type": "code",
   "execution_count": 10,
   "id": "9b21555e",
   "metadata": {
    "execution": {
     "iopub.execute_input": "2023-12-18T04:28:42.593307Z",
     "iopub.status.busy": "2023-12-18T04:28:42.592930Z",
     "iopub.status.idle": "2023-12-18T04:28:42.788467Z",
     "shell.execute_reply": "2023-12-18T04:28:42.786740Z"
    },
    "papermill": {
     "duration": 0.20863,
     "end_time": "2023-12-18T04:28:42.791883",
     "exception": false,
     "start_time": "2023-12-18T04:28:42.583253",
     "status": "completed"
    },
    "tags": []
   },
   "outputs": [
    {
     "data": {
      "text/plain": [
       "<Axes: xlabel='Payment Category'>"
      ]
     },
     "execution_count": 10,
     "metadata": {},
     "output_type": "execute_result"
    },
    {
     "data": {
      "image/png": "[encoded data removed]",
      "text/plain": [
       "<Figure size 640x480 with 1 Axes>"
      ]
     },
     "metadata": {},
     "output_type": "display_data"
    }
   ],
   "source": [
    "shopping_behavior['Payment Category'] = ''\n",
    "shopping_behavior.loc[shopping_behavior['Payment Method'].isin(['Credit Card', 'Debit Card'])   ,'Payment Category'] = 'Credit Debit Cards'\n",
    "shopping_behavior.loc[shopping_behavior['Payment Method'].isin(['PayPal', 'Venmo'])   ,'Payment Category'] = 'Payment Services'\n",
    "shopping_behavior.loc[shopping_behavior['Payment Method'].isin(['Cash', 'Bank Transfer'])   ,'Payment Category'] = 'Cash'\n",
    "\n",
    "shopping_behavior['Payment Category'].value_counts().plot(kind='bar')"
   ]
  },
  {
   "cell_type": "markdown",
   "id": "698547af",
   "metadata": {
    "papermill": {
     "duration": 0.008613,
     "end_time": "2023-12-18T04:28:42.809652",
     "exception": false,
     "start_time": "2023-12-18T04:28:42.801039",
     "status": "completed"
    },
    "tags": []
   },
   "source": [
    "We can conclude the payment methods are evenly distributed across the dataset."
   ]
  },
  {
   "cell_type": "code",
   "execution_count": 11,
   "id": "481afacb",
   "metadata": {
    "execution": {
     "iopub.execute_input": "2023-12-18T04:28:42.829381Z",
     "iopub.status.busy": "2023-12-18T04:28:42.828959Z",
     "iopub.status.idle": "2023-12-18T04:28:43.045545Z",
     "shell.execute_reply": "2023-12-18T04:28:43.044069Z"
    },
    "papermill": {
     "duration": 0.229159,
     "end_time": "2023-12-18T04:28:43.047706",
     "exception": false,
     "start_time": "2023-12-18T04:28:42.818547",
     "status": "completed"
    },
    "tags": []
   },
   "outputs": [
    {
     "data": {
      "text/plain": [
       "<Axes: xlabel='Shipping Type'>"
      ]
     },
     "execution_count": 11,
     "metadata": {},
     "output_type": "execute_result"
    },
    {
     "data": {
      "image/png": "[encoded data removed]",
      "text/plain": [
       "<Figure size 640x480 with 1 Axes>"
      ]
     },
     "metadata": {},
     "output_type": "display_data"
    }
   ],
   "source": [
    "shopping_behavior['Shipping Type'].value_counts().plot(kind='bar')"
   ]
  },
  {
   "cell_type": "markdown",
   "id": "bb064f47",
   "metadata": {
    "papermill": {
     "duration": 0.009145,
     "end_time": "2023-12-18T04:28:43.065899",
     "exception": false,
     "start_time": "2023-12-18T04:28:43.056754",
     "status": "completed"
    },
    "tags": []
   },
   "source": [
    "Does the season affect the shopping type?"
   ]
  },
  {
   "cell_type": "code",
   "execution_count": 12,
   "id": "31a02af6",
   "metadata": {
    "execution": {
     "iopub.execute_input": "2023-12-18T04:28:43.086914Z",
     "iopub.status.busy": "2023-12-18T04:28:43.086505Z",
     "iopub.status.idle": "2023-12-18T04:28:43.410505Z",
     "shell.execute_reply": "2023-12-18T04:28:43.409171Z"
    },
    "papermill": {
     "duration": 0.337559,
     "end_time": "2023-12-18T04:28:43.413268",
     "exception": false,
     "start_time": "2023-12-18T04:28:43.075709",
     "status": "completed"
    },
    "tags": []
   },
   "outputs": [
    {
     "data": {
      "text/plain": [
       "<Axes: xlabel='Season'>"
      ]
     },
     "execution_count": 12,
     "metadata": {},
     "output_type": "execute_result"
    },
    {
     "data": {
      "image/png": "[encoded data removed]",
      "text/plain": [
       "<Figure size 640x480 with 1 Axes>"
      ]
     },
     "metadata": {},
     "output_type": "display_data"
    }
   ],
   "source": [
    "shopping_behavior.groupby(['Season', 'Shipping Type'])['Customer ID'].sum().unstack(1).plot.bar(rot=45)"
   ]
  },
  {
   "cell_type": "markdown",
   "id": "523c2b3a",
   "metadata": {
    "papermill": {
     "duration": 0.010439,
     "end_time": "2023-12-18T04:28:43.434082",
     "exception": false,
     "start_time": "2023-12-18T04:28:43.423643",
     "status": "completed"
    },
    "tags": []
   },
   "source": [
    "This looks better but it's messy. We will need to order both the Seasons and Shipping Type for a better picture.\n",
    "\n",
    "In this case, they are both categoricals so the default sorting is alphabetically. To order them to aid in our analysis, we will need to do the following:"
   ]
  },
  {
   "cell_type": "code",
   "execution_count": 13,
   "id": "e69a2230",
   "metadata": {
    "execution": {
     "iopub.execute_input": "2023-12-18T04:28:43.458256Z",
     "iopub.status.busy": "2023-12-18T04:28:43.457871Z",
     "iopub.status.idle": "2023-12-18T04:28:43.771873Z",
     "shell.execute_reply": "2023-12-18T04:28:43.770199Z"
    },
    "papermill": {
     "duration": 0.328865,
     "end_time": "2023-12-18T04:28:43.774487",
     "exception": false,
     "start_time": "2023-12-18T04:28:43.445622",
     "status": "completed"
    },
    "tags": []
   },
   "outputs": [
    {
     "data": {
      "image/png": "[encoded data removed]",
      "text/plain": [
       "<Figure size 640x480 with 1 Axes>"
      ]
     },
     "metadata": {},
     "output_type": "display_data"
    }
   ],
   "source": [
    "season = CategoricalDtype(['Spring', 'Summer', 'Fall', 'Winter'], ordered=True)\n",
    "shopping_behavior['Season'] = shopping_behavior['Season'].astype(season)\n",
    "\n",
    "shipping_type = CategoricalDtype(['Free Shipping', 'Standard', 'Express', \n",
    "                                  '2-Day Shipping', 'Next Day Air',\n",
    "                                  'Store Pickup'], ordered=True)\n",
    "shopping_behavior['Shipping Type'] = shopping_behavior['Shipping Type'].astype(shipping_type)\n",
    "\n",
    "ax = shopping_behavior.groupby(['Season', 'Shipping Type'])['Customer ID'].sum().unstack(1).plot.bar(rot=45)\n",
    "sns.move_legend(ax, \"upper left\", bbox_to_anchor=(1, 1))\n"
   ]
  },
  {
   "cell_type": "markdown",
   "id": "20ec60d5",
   "metadata": {
    "papermill": {
     "duration": 0.009811,
     "end_time": "2023-12-18T04:28:43.795606",
     "exception": false,
     "start_time": "2023-12-18T04:28:43.785795",
     "status": "completed"
    },
    "tags": []
   },
   "source": [
    "Much better.\n",
    "\n",
    "Let's also dive into a few other interesting attributes to see if we can uncover anymore patterns."
   ]
  },
  {
   "cell_type": "code",
   "execution_count": 14,
   "id": "c12d6fb5",
   "metadata": {
    "execution": {
     "iopub.execute_input": "2023-12-18T04:28:43.816222Z",
     "iopub.status.busy": "2023-12-18T04:28:43.815897Z",
     "iopub.status.idle": "2023-12-18T04:28:44.047638Z",
     "shell.execute_reply": "2023-12-18T04:28:44.045615Z"
    },
    "papermill": {
     "duration": 0.245397,
     "end_time": "2023-12-18T04:28:44.050602",
     "exception": false,
     "start_time": "2023-12-18T04:28:43.805205",
     "status": "completed"
    },
    "tags": []
   },
   "outputs": [
    {
     "data": {
      "image/png": "[encoded data removed]",
      "text/plain": [
       "<Figure size 640x480 with 1 Axes>"
      ]
     },
     "metadata": {},
     "output_type": "display_data"
    }
   ],
   "source": [
    "ax = shopping_behavior.groupby(['Gender', 'Subscription Status'])['Purchase Amount (USD)'].sum().unstack(1).plot.bar(rot=45)\n",
    "sns.move_legend(ax, \"upper left\", bbox_to_anchor=(1, 1))"
   ]
  },
  {
   "cell_type": "markdown",
   "id": "bddd5ab9",
   "metadata": {
    "papermill": {
     "duration": 0.010971,
     "end_time": "2023-12-18T04:28:44.134867",
     "exception": false,
     "start_time": "2023-12-18T04:28:44.123896",
     "status": "completed"
    },
    "tags": []
   },
   "source": [
    "This is actually interesting. I wasn't quite expecting this result :)\n",
    "\n",
    "Let's dig more into this similar issue to uncover if there are any accompanying trends"
   ]
  },
  {
   "cell_type": "code",
   "execution_count": 15,
   "id": "d0976243",
   "metadata": {
    "execution": {
     "iopub.execute_input": "2023-12-18T04:28:44.158497Z",
     "iopub.status.busy": "2023-12-18T04:28:44.157666Z",
     "iopub.status.idle": "2023-12-18T04:28:44.166276Z",
     "shell.execute_reply": "2023-12-18T04:28:44.164710Z"
    },
    "papermill": {
     "duration": 0.02293,
     "end_time": "2023-12-18T04:28:44.168368",
     "exception": false,
     "start_time": "2023-12-18T04:28:44.145438",
     "status": "completed"
    },
    "tags": []
   },
   "outputs": [
    {
     "data": {
      "text/plain": [
       "Discount Applied\n",
       "No     2223\n",
       "Yes    1677\n",
       "Name: count, dtype: int64"
      ]
     },
     "execution_count": 15,
     "metadata": {},
     "output_type": "execute_result"
    }
   ],
   "source": [
    "## discount and coupon codes\n",
    "shopping_behavior['Discount Applied'].value_counts()"
   ]
  },
  {
   "cell_type": "code",
   "execution_count": 16,
   "id": "7ec9f0e4",
   "metadata": {
    "execution": {
     "iopub.execute_input": "2023-12-18T04:28:44.191620Z",
     "iopub.status.busy": "2023-12-18T04:28:44.191238Z",
     "iopub.status.idle": "2023-12-18T04:28:44.200033Z",
     "shell.execute_reply": "2023-12-18T04:28:44.198547Z"
    },
    "papermill": {
     "duration": 0.023768,
     "end_time": "2023-12-18T04:28:44.202929",
     "exception": false,
     "start_time": "2023-12-18T04:28:44.179161",
     "status": "completed"
    },
    "tags": []
   },
   "outputs": [
    {
     "data": {
      "text/plain": [
       "Promo Code Used\n",
       "No     2223\n",
       "Yes    1677\n",
       "Name: count, dtype: int64"
      ]
     },
     "execution_count": 16,
     "metadata": {},
     "output_type": "execute_result"
    }
   ],
   "source": [
    "shopping_behavior['Promo Code Used'].value_counts()"
   ]
  },
  {
   "cell_type": "code",
   "execution_count": 17,
   "id": "07db6587",
   "metadata": {
    "execution": {
     "iopub.execute_input": "2023-12-18T04:28:44.226545Z",
     "iopub.status.busy": "2023-12-18T04:28:44.226181Z",
     "iopub.status.idle": "2023-12-18T04:28:44.241711Z",
     "shell.execute_reply": "2023-12-18T04:28:44.239811Z"
    },
    "papermill": {
     "duration": 0.030092,
     "end_time": "2023-12-18T04:28:44.244325",
     "exception": false,
     "start_time": "2023-12-18T04:28:44.214233",
     "status": "completed"
    },
    "tags": []
   },
   "outputs": [
    {
     "name": "stdout",
     "output_type": "stream",
     "text": [
      "<class 'pandas.core.frame.DataFrame'>\n",
      "RangeIndex: 3900 entries, 0 to 3899\n",
      "Data columns (total 19 columns):\n",
      " #   Column                  Non-Null Count  Dtype   \n",
      "---  ------                  --------------  -----   \n",
      " 0   Customer ID             3900 non-null   int64   \n",
      " 1   Age                     3900 non-null   int64   \n",
      " 2   Gender                  3900 non-null   object  \n",
      " 3   Item Purchased          3900 non-null   object  \n",
      " 4   Category                3900 non-null   object  \n",
      " 5   Purchase Amount (USD)   3900 non-null   int64   \n",
      " 6   Location                3900 non-null   object  \n",
      " 7   Size                    3900 non-null   object  \n",
      " 8   Color                   3900 non-null   object  \n",
      " 9   Season                  3900 non-null   category\n",
      " 10  Review Rating           3900 non-null   float64 \n",
      " 11  Subscription Status     3900 non-null   object  \n",
      " 12  Shipping Type           3900 non-null   category\n",
      " 13  Discount Applied        3900 non-null   object  \n",
      " 14  Promo Code Used         3900 non-null   object  \n",
      " 15  Previous Purchases      3900 non-null   int64   \n",
      " 16  Payment Method          3900 non-null   object  \n",
      " 17  Frequency of Purchases  3900 non-null   object  \n",
      " 18  Payment Category        3900 non-null   object  \n",
      "dtypes: category(2), float64(1), int64(4), object(12)\n",
      "memory usage: 526.1+ KB\n"
     ]
    }
   ],
   "source": [
    "shopping_behavior.info()"
   ]
  },
  {
   "cell_type": "code",
   "execution_count": 18,
   "id": "994b0691",
   "metadata": {
    "execution": {
     "iopub.execute_input": "2023-12-18T04:28:44.270047Z",
     "iopub.status.busy": "2023-12-18T04:28:44.269652Z",
     "iopub.status.idle": "2023-12-18T04:28:44.282177Z",
     "shell.execute_reply": "2023-12-18T04:28:44.280852Z"
    },
    "papermill": {
     "duration": 0.02818,
     "end_time": "2023-12-18T04:28:44.284978",
     "exception": false,
     "start_time": "2023-12-18T04:28:44.256798",
     "status": "completed"
    },
    "tags": []
   },
   "outputs": [
    {
     "data": {
      "text/plain": [
       "Paid Full Retail Price\n",
       "Yes    2223\n",
       "No     1677\n",
       "Name: count, dtype: int64"
      ]
     },
     "execution_count": 18,
     "metadata": {},
     "output_type": "execute_result"
    }
   ],
   "source": [
    "shopping_behavior['Paid Full Retail Price'] = 'Yes'\n",
    "\n",
    "shopping_behavior.loc[(shopping_behavior['Discount Applied']=='Yes')| (shopping_behavior['Promo Code Used']=='Yes'),'Paid Full Retail Price'] = 'No'\n",
    "\n",
    "shopping_behavior['Paid Full Retail Price'].value_counts()"
   ]
  },
  {
   "cell_type": "markdown",
   "id": "d3025e0e",
   "metadata": {
    "papermill": {
     "duration": 0.010665,
     "end_time": "2023-12-18T04:28:44.308114",
     "exception": false,
     "start_time": "2023-12-18T04:28:44.297449",
     "status": "completed"
    },
    "tags": []
   },
   "source": [
    "In this case, Discount Applied and Promo Code Used refer to the same thing but they may not. We may choose to perform some logic which I have done in the above to be scalable. Otherwise to simplify things, we may wish to drop 1 redundant column.  It really depends on the context and dataset."
   ]
  },
  {
   "cell_type": "code",
   "execution_count": 19,
   "id": "5789c844",
   "metadata": {
    "execution": {
     "iopub.execute_input": "2023-12-18T04:28:44.331807Z",
     "iopub.status.busy": "2023-12-18T04:28:44.331138Z",
     "iopub.status.idle": "2023-12-18T04:28:44.545356Z",
     "shell.execute_reply": "2023-12-18T04:28:44.543925Z"
    },
    "papermill": {
     "duration": 0.230107,
     "end_time": "2023-12-18T04:28:44.549099",
     "exception": false,
     "start_time": "2023-12-18T04:28:44.318992",
     "status": "completed"
    },
    "tags": []
   },
   "outputs": [
    {
     "data": {
      "image/png": "[encoded data removed]",
      "text/plain": [
       "<Figure size 640x480 with 1 Axes>"
      ]
     },
     "metadata": {},
     "output_type": "display_data"
    }
   ],
   "source": [
    "ax = shopping_behavior.groupby(['Gender', 'Paid Full Retail Price'])['Purchase Amount (USD)'].sum().unstack(1).plot.bar(rot=45)\n",
    "sns.move_legend(ax, \"upper left\", bbox_to_anchor=(1, 1))"
   ]
  },
  {
   "cell_type": "markdown",
   "id": "dbcba962",
   "metadata": {
    "papermill": {
     "duration": 0.011014,
     "end_time": "2023-12-18T04:28:44.571651",
     "exception": false,
     "start_time": "2023-12-18T04:28:44.560637",
     "status": "completed"
    },
    "tags": []
   },
   "source": [
    "Wow! The results are now reversed! :)"
   ]
  },
  {
   "cell_type": "code",
   "execution_count": null,
   "id": "6c7339d3",
   "metadata": {
    "papermill": {
     "duration": 0.01081,
     "end_time": "2023-12-18T04:28:44.593746",
     "exception": false,
     "start_time": "2023-12-18T04:28:44.582936",
     "status": "completed"
    },
    "tags": []
   },
   "outputs": [],
   "source": []
  }
 ],
 "metadata": {
  "kaggle": {
   "accelerator": "none",
   "dataSources": [
    {
     "datasetId": 3881446,
     "sourceId": 6740173,
     "sourceType": "datasetVersion"
    }
   ],
   "dockerImageVersionId": 30626,
   "isGpuEnabled": false,
   "isInternetEnabled": true,
   "language": "python",
   "sourceType": "notebook"
  },
  "kernelspec": {
   "display_name": "Python 3",
   "language": "python",
   "name": "python3"
  },
  "language_info": {
   "codemirror_mode": {
    "name": "ipython",
    "version": 3
   },
   "file_extension": ".py",
   "mimetype": "text/x-python",
   "name": "python",
   "nbconvert_exporter": "python",
   "pygments_lexer": "ipython3",
   "version": "3.10.12"
  },
  "papermill": {
   "default_parameters": {},
   "duration": 8.457894,
   "end_time": "2023-12-18T04:28:45.229080",
   "environment_variables": {},
   "exception": null,
   "input_path": "__notebook__.ipynb",
   "output_path": "__notebook__.ipynb",
   "parameters": {},
   "start_time": "2023-12-18T04:28:36.771186",
   "version": "2.4.0"
  }
 },
 "nbformat": 4,
 "nbformat_minor": 5
}

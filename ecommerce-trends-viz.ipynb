{
 "cells": [
  {
   "cell_type": "markdown",
   "id": "3aa4b35e",
   "metadata": {
    "papermill": {
     "duration": 0.009538,
     "end_time": "2023-12-18T07:37:36.193597",
     "exception": false,
     "start_time": "2023-12-18T07:37:36.184059",
     "status": "completed"
    },
    "tags": []
   },
   "source": [
    "# **Overview**\n",
    "\n",
    "### Holidays are upon us, and whatever the current circumstances, gifts of any form hopefully helps us feel better. This looks at the shopping trends, focusing mainly on the various factors those can influence the purchase amounts and consequently, the incomes.\n",
    "\n",
    "### Contents:\n",
    "\n",
    "1. **Import Required Libraries [1]**\n",
    "2. **Load the Datasets [2]**\n",
    "3. **Perform Exploratory Data Anlysis [3-54]**\n",
    "4. **Clean the Data**\n",
    "5. **Visualize Data[55-65]**\n",
    "6. **Key Insights**"
   ]
  },
  {
   "cell_type": "markdown",
   "id": "e8400d0d",
   "metadata": {
    "papermill": {
     "duration": 0.00885,
     "end_time": "2023-12-18T07:37:36.211908",
     "exception": false,
     "start_time": "2023-12-18T07:37:36.203058",
     "status": "completed"
    },
    "tags": []
   },
   "source": [
    "Import Required Libraries"
   ]
  },
  {
   "cell_type": "code",
   "execution_count": 1,
   "id": "de1b6cf7",
   "metadata": {
    "execution": {
     "iopub.execute_input": "2023-12-18T07:37:36.232570Z",
     "iopub.status.busy": "2023-12-18T07:37:36.231805Z",
     "iopub.status.idle": "2023-12-18T07:37:38.612311Z",
     "shell.execute_reply": "2023-12-18T07:37:38.611159Z"
    },
    "papermill": {
     "duration": 2.393597,
     "end_time": "2023-12-18T07:37:38.614534",
     "exception": false,
     "start_time": "2023-12-18T07:37:36.220937",
     "status": "completed"
    },
    "tags": []
   },
   "outputs": [
    {
     "name": "stdout",
     "output_type": "stream",
     "text": [
      "/kaggle/input/consumer-behavior-and-shopping-habits-dataset/shopping_behavior_updated.csv\n",
      "/kaggle/input/consumer-behavior-and-shopping-habits-dataset/shopping_trends.csv\n"
     ]
    }
   ],
   "source": [
    "import os\n",
    "\n",
    "import numpy as np\n",
    "import pandas as pd\n",
    "from pandas.api.types import CategoricalDtype\n",
    "import seaborn as sns\n",
    "\n",
    "from sklearn.preprocessing import LabelEncoder \n",
    "\n",
    "for dirname, _, filenames in os.walk('/kaggle/input'):\n",
    "    for filename in filenames:\n",
    "        print(os.path.join(dirname, filename))\n",
    "        \n",
    "        \n",
    "palette = 'Spectral'\n",
    "sns.set_palette(palette = palette)"
   ]
  },
  {
   "cell_type": "markdown",
   "id": "075f408e",
   "metadata": {
    "papermill": {
     "duration": 0.009074,
     "end_time": "2023-12-18T07:37:38.632841",
     "exception": false,
     "start_time": "2023-12-18T07:37:38.623767",
     "status": "completed"
    },
    "tags": []
   },
   "source": [
    "Load the DatasetsLoad the Datasets\n",
    "\n",
    "We had added the above dataset from Kaggle for analysis. Now let's read it into a dataframe."
   ]
  },
  {
   "cell_type": "code",
   "execution_count": 2,
   "id": "9dbcbf83",
   "metadata": {
    "execution": {
     "iopub.execute_input": "2023-12-18T07:37:38.653297Z",
     "iopub.status.busy": "2023-12-18T07:37:38.652735Z",
     "iopub.status.idle": "2023-12-18T07:37:38.711860Z",
     "shell.execute_reply": "2023-12-18T07:37:38.710828Z"
    },
    "papermill": {
     "duration": 0.072223,
     "end_time": "2023-12-18T07:37:38.714327",
     "exception": false,
     "start_time": "2023-12-18T07:37:38.642104",
     "status": "completed"
    },
    "tags": []
   },
   "outputs": [
    {
     "data": {
      "text/html": [
       "<div>\n",
       "<style scoped>\n",
       "    .dataframe tbody tr th:only-of-type {\n",
       "        vertical-align: middle;\n",
       "    }\n",
       "\n",
       "    .dataframe tbody tr th {\n",
       "        vertical-align: top;\n",
       "    }\n",
       "\n",
       "    .dataframe thead th {\n",
       "        text-align: right;\n",
       "    }\n",
       "</style>\n",
       "<table border=\"1\" class=\"dataframe\">\n",
       "  <thead>\n",
       "    <tr style=\"text-align: right;\">\n",
       "      <th></th>\n",
       "      <th>Customer ID</th>\n",
       "      <th>Age</th>\n",
       "      <th>Gender</th>\n",
       "      <th>Item Purchased</th>\n",
       "      <th>Category</th>\n",
       "      <th>Purchase Amount (USD)</th>\n",
       "      <th>Location</th>\n",
       "      <th>Size</th>\n",
       "      <th>Color</th>\n",
       "      <th>Season</th>\n",
       "      <th>Review Rating</th>\n",
       "      <th>Subscription Status</th>\n",
       "      <th>Shipping Type</th>\n",
       "      <th>Discount Applied</th>\n",
       "      <th>Promo Code Used</th>\n",
       "      <th>Previous Purchases</th>\n",
       "      <th>Payment Method</th>\n",
       "      <th>Frequency of Purchases</th>\n",
       "    </tr>\n",
       "  </thead>\n",
       "  <tbody>\n",
       "    <tr>\n",
       "      <th>0</th>\n",
       "      <td>1</td>\n",
       "      <td>55</td>\n",
       "      <td>Male</td>\n",
       "      <td>Blouse</td>\n",
       "      <td>Clothing</td>\n",
       "      <td>53</td>\n",
       "      <td>Kentucky</td>\n",
       "      <td>L</td>\n",
       "      <td>Gray</td>\n",
       "      <td>Winter</td>\n",
       "      <td>3.1</td>\n",
       "      <td>Yes</td>\n",
       "      <td>Express</td>\n",
       "      <td>Yes</td>\n",
       "      <td>Yes</td>\n",
       "      <td>14</td>\n",
       "      <td>Venmo</td>\n",
       "      <td>Fortnightly</td>\n",
       "    </tr>\n",
       "    <tr>\n",
       "      <th>1</th>\n",
       "      <td>2</td>\n",
       "      <td>19</td>\n",
       "      <td>Male</td>\n",
       "      <td>Sweater</td>\n",
       "      <td>Clothing</td>\n",
       "      <td>64</td>\n",
       "      <td>Maine</td>\n",
       "      <td>L</td>\n",
       "      <td>Maroon</td>\n",
       "      <td>Winter</td>\n",
       "      <td>3.1</td>\n",
       "      <td>Yes</td>\n",
       "      <td>Express</td>\n",
       "      <td>Yes</td>\n",
       "      <td>Yes</td>\n",
       "      <td>2</td>\n",
       "      <td>Cash</td>\n",
       "      <td>Fortnightly</td>\n",
       "    </tr>\n",
       "    <tr>\n",
       "      <th>2</th>\n",
       "      <td>3</td>\n",
       "      <td>50</td>\n",
       "      <td>Male</td>\n",
       "      <td>Jeans</td>\n",
       "      <td>Clothing</td>\n",
       "      <td>73</td>\n",
       "      <td>Massachusetts</td>\n",
       "      <td>S</td>\n",
       "      <td>Maroon</td>\n",
       "      <td>Spring</td>\n",
       "      <td>3.1</td>\n",
       "      <td>Yes</td>\n",
       "      <td>Free Shipping</td>\n",
       "      <td>Yes</td>\n",
       "      <td>Yes</td>\n",
       "      <td>23</td>\n",
       "      <td>Credit Card</td>\n",
       "      <td>Weekly</td>\n",
       "    </tr>\n",
       "    <tr>\n",
       "      <th>3</th>\n",
       "      <td>4</td>\n",
       "      <td>21</td>\n",
       "      <td>Male</td>\n",
       "      <td>Sandals</td>\n",
       "      <td>Footwear</td>\n",
       "      <td>90</td>\n",
       "      <td>Rhode Island</td>\n",
       "      <td>M</td>\n",
       "      <td>Maroon</td>\n",
       "      <td>Spring</td>\n",
       "      <td>3.5</td>\n",
       "      <td>Yes</td>\n",
       "      <td>Next Day Air</td>\n",
       "      <td>Yes</td>\n",
       "      <td>Yes</td>\n",
       "      <td>49</td>\n",
       "      <td>PayPal</td>\n",
       "      <td>Weekly</td>\n",
       "    </tr>\n",
       "    <tr>\n",
       "      <th>4</th>\n",
       "      <td>5</td>\n",
       "      <td>45</td>\n",
       "      <td>Male</td>\n",
       "      <td>Blouse</td>\n",
       "      <td>Clothing</td>\n",
       "      <td>49</td>\n",
       "      <td>Oregon</td>\n",
       "      <td>M</td>\n",
       "      <td>Turquoise</td>\n",
       "      <td>Spring</td>\n",
       "      <td>2.7</td>\n",
       "      <td>Yes</td>\n",
       "      <td>Free Shipping</td>\n",
       "      <td>Yes</td>\n",
       "      <td>Yes</td>\n",
       "      <td>31</td>\n",
       "      <td>PayPal</td>\n",
       "      <td>Annually</td>\n",
       "    </tr>\n",
       "  </tbody>\n",
       "</table>\n",
       "</div>"
      ],
      "text/plain": [
       "   Customer ID  Age Gender Item Purchased  Category  Purchase Amount (USD)  \\\n",
       "0            1   55   Male         Blouse  Clothing                     53   \n",
       "1            2   19   Male        Sweater  Clothing                     64   \n",
       "2            3   50   Male          Jeans  Clothing                     73   \n",
       "3            4   21   Male        Sandals  Footwear                     90   \n",
       "4            5   45   Male         Blouse  Clothing                     49   \n",
       "\n",
       "        Location Size      Color  Season  Review Rating Subscription Status  \\\n",
       "0       Kentucky    L       Gray  Winter            3.1                 Yes   \n",
       "1          Maine    L     Maroon  Winter            3.1                 Yes   \n",
       "2  Massachusetts    S     Maroon  Spring            3.1                 Yes   \n",
       "3   Rhode Island    M     Maroon  Spring            3.5                 Yes   \n",
       "4         Oregon    M  Turquoise  Spring            2.7                 Yes   \n",
       "\n",
       "   Shipping Type Discount Applied Promo Code Used  Previous Purchases  \\\n",
       "0        Express              Yes             Yes                  14   \n",
       "1        Express              Yes             Yes                   2   \n",
       "2  Free Shipping              Yes             Yes                  23   \n",
       "3   Next Day Air              Yes             Yes                  49   \n",
       "4  Free Shipping              Yes             Yes                  31   \n",
       "\n",
       "  Payment Method Frequency of Purchases  \n",
       "0          Venmo            Fortnightly  \n",
       "1           Cash            Fortnightly  \n",
       "2    Credit Card                 Weekly  \n",
       "3         PayPal                 Weekly  \n",
       "4         PayPal               Annually  "
      ]
     },
     "execution_count": 2,
     "metadata": {},
     "output_type": "execute_result"
    }
   ],
   "source": [
    "shopping_behavior = pd.read_csv('/kaggle/input/consumer-behavior-and-shopping-habits-dataset/shopping_behavior_updated.csv')\n",
    "\n",
    "shopping_behavior.head()"
   ]
  },
  {
   "cell_type": "markdown",
   "id": "4dee5def",
   "metadata": {
    "papermill": {
     "duration": 0.009402,
     "end_time": "2023-12-18T07:37:38.733229",
     "exception": false,
     "start_time": "2023-12-18T07:37:38.723827",
     "status": "completed"
    },
    "tags": []
   },
   "source": [
    "Perform Exploratory Data AnlysisPerform Exploratory Data Anlysis"
   ]
  },
  {
   "cell_type": "code",
   "execution_count": 3,
   "id": "823f97d8",
   "metadata": {
    "execution": {
     "iopub.execute_input": "2023-12-18T07:37:38.753565Z",
     "iopub.status.busy": "2023-12-18T07:37:38.753190Z",
     "iopub.status.idle": "2023-12-18T07:37:38.782204Z",
     "shell.execute_reply": "2023-12-18T07:37:38.781097Z"
    },
    "papermill": {
     "duration": 0.041814,
     "end_time": "2023-12-18T07:37:38.784247",
     "exception": false,
     "start_time": "2023-12-18T07:37:38.742433",
     "status": "completed"
    },
    "tags": []
   },
   "outputs": [
    {
     "name": "stdout",
     "output_type": "stream",
     "text": [
      "<class 'pandas.core.frame.DataFrame'>\n",
      "RangeIndex: 3900 entries, 0 to 3899\n",
      "Data columns (total 18 columns):\n",
      " #   Column                  Non-Null Count  Dtype  \n",
      "---  ------                  --------------  -----  \n",
      " 0   Customer ID             3900 non-null   int64  \n",
      " 1   Age                     3900 non-null   int64  \n",
      " 2   Gender                  3900 non-null   object \n",
      " 3   Item Purchased          3900 non-null   object \n",
      " 4   Category                3900 non-null   object \n",
      " 5   Purchase Amount (USD)   3900 non-null   int64  \n",
      " 6   Location                3900 non-null   object \n",
      " 7   Size                    3900 non-null   object \n",
      " 8   Color                   3900 non-null   object \n",
      " 9   Season                  3900 non-null   object \n",
      " 10  Review Rating           3900 non-null   float64\n",
      " 11  Subscription Status     3900 non-null   object \n",
      " 12  Shipping Type           3900 non-null   object \n",
      " 13  Discount Applied        3900 non-null   object \n",
      " 14  Promo Code Used         3900 non-null   object \n",
      " 15  Previous Purchases      3900 non-null   int64  \n",
      " 16  Payment Method          3900 non-null   object \n",
      " 17  Frequency of Purchases  3900 non-null   object \n",
      "dtypes: float64(1), int64(4), object(13)\n",
      "memory usage: 548.6+ KB\n"
     ]
    }
   ],
   "source": [
    "shopping_behavior.info()"
   ]
  },
  {
   "cell_type": "code",
   "execution_count": 4,
   "id": "13784cab",
   "metadata": {
    "execution": {
     "iopub.execute_input": "2023-12-18T07:37:38.805238Z",
     "iopub.status.busy": "2023-12-18T07:37:38.804548Z",
     "iopub.status.idle": "2023-12-18T07:37:38.831314Z",
     "shell.execute_reply": "2023-12-18T07:37:38.830037Z"
    },
    "papermill": {
     "duration": 0.040136,
     "end_time": "2023-12-18T07:37:38.833836",
     "exception": false,
     "start_time": "2023-12-18T07:37:38.793700",
     "status": "completed"
    },
    "tags": []
   },
   "outputs": [
    {
     "data": {
      "text/html": [
       "<div>\n",
       "<style scoped>\n",
       "    .dataframe tbody tr th:only-of-type {\n",
       "        vertical-align: middle;\n",
       "    }\n",
       "\n",
       "    .dataframe tbody tr th {\n",
       "        vertical-align: top;\n",
       "    }\n",
       "\n",
       "    .dataframe thead th {\n",
       "        text-align: right;\n",
       "    }\n",
       "</style>\n",
       "<table border=\"1\" class=\"dataframe\">\n",
       "  <thead>\n",
       "    <tr style=\"text-align: right;\">\n",
       "      <th></th>\n",
       "      <th>Customer ID</th>\n",
       "      <th>Age</th>\n",
       "      <th>Purchase Amount (USD)</th>\n",
       "      <th>Review Rating</th>\n",
       "      <th>Previous Purchases</th>\n",
       "    </tr>\n",
       "  </thead>\n",
       "  <tbody>\n",
       "    <tr>\n",
       "      <th>count</th>\n",
       "      <td>3900.000000</td>\n",
       "      <td>3900.000000</td>\n",
       "      <td>3900.000000</td>\n",
       "      <td>3900.000000</td>\n",
       "      <td>3900.000000</td>\n",
       "    </tr>\n",
       "    <tr>\n",
       "      <th>mean</th>\n",
       "      <td>1950.500000</td>\n",
       "      <td>44.068462</td>\n",
       "      <td>59.764359</td>\n",
       "      <td>3.749949</td>\n",
       "      <td>25.351538</td>\n",
       "    </tr>\n",
       "    <tr>\n",
       "      <th>std</th>\n",
       "      <td>1125.977353</td>\n",
       "      <td>15.207589</td>\n",
       "      <td>23.685392</td>\n",
       "      <td>0.716223</td>\n",
       "      <td>14.447125</td>\n",
       "    </tr>\n",
       "    <tr>\n",
       "      <th>min</th>\n",
       "      <td>1.000000</td>\n",
       "      <td>18.000000</td>\n",
       "      <td>20.000000</td>\n",
       "      <td>2.500000</td>\n",
       "      <td>1.000000</td>\n",
       "    </tr>\n",
       "    <tr>\n",
       "      <th>25%</th>\n",
       "      <td>975.750000</td>\n",
       "      <td>31.000000</td>\n",
       "      <td>39.000000</td>\n",
       "      <td>3.100000</td>\n",
       "      <td>13.000000</td>\n",
       "    </tr>\n",
       "    <tr>\n",
       "      <th>50%</th>\n",
       "      <td>1950.500000</td>\n",
       "      <td>44.000000</td>\n",
       "      <td>60.000000</td>\n",
       "      <td>3.700000</td>\n",
       "      <td>25.000000</td>\n",
       "    </tr>\n",
       "    <tr>\n",
       "      <th>75%</th>\n",
       "      <td>2925.250000</td>\n",
       "      <td>57.000000</td>\n",
       "      <td>81.000000</td>\n",
       "      <td>4.400000</td>\n",
       "      <td>38.000000</td>\n",
       "    </tr>\n",
       "    <tr>\n",
       "      <th>max</th>\n",
       "      <td>3900.000000</td>\n",
       "      <td>70.000000</td>\n",
       "      <td>100.000000</td>\n",
       "      <td>5.000000</td>\n",
       "      <td>50.000000</td>\n",
       "    </tr>\n",
       "  </tbody>\n",
       "</table>\n",
       "</div>"
      ],
      "text/plain": [
       "       Customer ID          Age  Purchase Amount (USD)  Review Rating  \\\n",
       "count  3900.000000  3900.000000            3900.000000    3900.000000   \n",
       "mean   1950.500000    44.068462              59.764359       3.749949   \n",
       "std    1125.977353    15.207589              23.685392       0.716223   \n",
       "min       1.000000    18.000000              20.000000       2.500000   \n",
       "25%     975.750000    31.000000              39.000000       3.100000   \n",
       "50%    1950.500000    44.000000              60.000000       3.700000   \n",
       "75%    2925.250000    57.000000              81.000000       4.400000   \n",
       "max    3900.000000    70.000000             100.000000       5.000000   \n",
       "\n",
       "       Previous Purchases  \n",
       "count         3900.000000  \n",
       "mean            25.351538  \n",
       "std             14.447125  \n",
       "min              1.000000  \n",
       "25%             13.000000  \n",
       "50%             25.000000  \n",
       "75%             38.000000  \n",
       "max             50.000000  "
      ]
     },
     "execution_count": 4,
     "metadata": {},
     "output_type": "execute_result"
    }
   ],
   "source": [
    "shopping_behavior.describe()"
   ]
  },
  {
   "cell_type": "markdown",
   "id": "ea441c26",
   "metadata": {
    "papermill": {
     "duration": 0.009517,
     "end_time": "2023-12-18T07:37:38.853522",
     "exception": false,
     "start_time": "2023-12-18T07:37:38.844005",
     "status": "completed"
    },
    "tags": []
   },
   "source": [
    "Let's check for duplicate values"
   ]
  },
  {
   "cell_type": "code",
   "execution_count": 5,
   "id": "5ab951d8",
   "metadata": {
    "execution": {
     "iopub.execute_input": "2023-12-18T07:37:38.874512Z",
     "iopub.status.busy": "2023-12-18T07:37:38.874146Z",
     "iopub.status.idle": "2023-12-18T07:37:38.888991Z",
     "shell.execute_reply": "2023-12-18T07:37:38.888231Z"
    },
    "papermill": {
     "duration": 0.02779,
     "end_time": "2023-12-18T07:37:38.890958",
     "exception": false,
     "start_time": "2023-12-18T07:37:38.863168",
     "status": "completed"
    },
    "tags": []
   },
   "outputs": [
    {
     "data": {
      "text/plain": [
       "0"
      ]
     },
     "execution_count": 5,
     "metadata": {},
     "output_type": "execute_result"
    }
   ],
   "source": [
    "shopping_behavior.duplicated().sum()"
   ]
  },
  {
   "cell_type": "markdown",
   "id": "bbe9a6ad",
   "metadata": {
    "papermill": {
     "duration": 0.009614,
     "end_time": "2023-12-18T07:37:38.910437",
     "exception": false,
     "start_time": "2023-12-18T07:37:38.900823",
     "status": "completed"
    },
    "tags": []
   },
   "source": [
    "Good, there seems to be no duplicate values.\n",
    "\n",
    "Let's also look if they are any null values"
   ]
  },
  {
   "cell_type": "code",
   "execution_count": 6,
   "id": "05c6157a",
   "metadata": {
    "execution": {
     "iopub.execute_input": "2023-12-18T07:37:38.932028Z",
     "iopub.status.busy": "2023-12-18T07:37:38.931262Z",
     "iopub.status.idle": "2023-12-18T07:37:38.939536Z",
     "shell.execute_reply": "2023-12-18T07:37:38.938808Z"
    },
    "papermill": {
     "duration": 0.021373,
     "end_time": "2023-12-18T07:37:38.941544",
     "exception": false,
     "start_time": "2023-12-18T07:37:38.920171",
     "status": "completed"
    },
    "tags": []
   },
   "outputs": [
    {
     "data": {
      "text/plain": [
       "False"
      ]
     },
     "execution_count": 6,
     "metadata": {},
     "output_type": "execute_result"
    }
   ],
   "source": [
    "shopping_behavior.isnull().values.any()"
   ]
  },
  {
   "cell_type": "markdown",
   "id": "daaf7af1",
   "metadata": {
    "papermill": {
     "duration": 0.009758,
     "end_time": "2023-12-18T07:37:38.961451",
     "exception": false,
     "start_time": "2023-12-18T07:37:38.951693",
     "status": "completed"
    },
    "tags": []
   },
   "source": [
    "Good, there are no null values as well. Otherwise we will need to handle them. Now lets move on.\n",
    "\n",
    "Next we will typical wish to check out unique values / catgories of the key attributes we are interested in."
   ]
  },
  {
   "cell_type": "code",
   "execution_count": 7,
   "id": "1772123d",
   "metadata": {
    "execution": {
     "iopub.execute_input": "2023-12-18T07:37:38.983834Z",
     "iopub.status.busy": "2023-12-18T07:37:38.982655Z",
     "iopub.status.idle": "2023-12-18T07:37:39.274465Z",
     "shell.execute_reply": "2023-12-18T07:37:39.273312Z"
    },
    "papermill": {
     "duration": 0.305433,
     "end_time": "2023-12-18T07:37:39.276798",
     "exception": false,
     "start_time": "2023-12-18T07:37:38.971365",
     "status": "completed"
    },
    "tags": []
   },
   "outputs": [
    {
     "data": {
      "text/plain": [
       "<Axes: xlabel='Category'>"
      ]
     },
     "execution_count": 7,
     "metadata": {},
     "output_type": "execute_result"
    },
    {
     "data": {
      "image/png": "[encoded data removed]",
      "text/plain": [
       "<Figure size 640x480 with 1 Axes>"
      ]
     },
     "metadata": {},
     "output_type": "display_data"
    }
   ],
   "source": [
    "shopping_behavior['Category'].value_counts().plot(kind='bar')"
   ]
  },
  {
   "cell_type": "code",
   "execution_count": 8,
   "id": "48abb596",
   "metadata": {
    "execution": {
     "iopub.execute_input": "2023-12-18T07:37:39.300089Z",
     "iopub.status.busy": "2023-12-18T07:37:39.299659Z",
     "iopub.status.idle": "2023-12-18T07:37:39.492266Z",
     "shell.execute_reply": "2023-12-18T07:37:39.491105Z"
    },
    "papermill": {
     "duration": 0.207211,
     "end_time": "2023-12-18T07:37:39.494641",
     "exception": false,
     "start_time": "2023-12-18T07:37:39.287430",
     "status": "completed"
    },
    "tags": []
   },
   "outputs": [
    {
     "data": {
      "text/plain": [
       "<Axes: xlabel='Season'>"
      ]
     },
     "execution_count": 8,
     "metadata": {},
     "output_type": "execute_result"
    },
    {
     "data": {
      "image/png": "[encoded data removed]",
      "text/plain": [
       "<Figure size 640x480 with 1 Axes>"
      ]
     },
     "metadata": {},
     "output_type": "display_data"
    }
   ],
   "source": [
    "shopping_behavior['Season'].value_counts().plot(kind='bar')"
   ]
  },
  {
   "cell_type": "code",
   "execution_count": 9,
   "id": "2c90cddf",
   "metadata": {
    "execution": {
     "iopub.execute_input": "2023-12-18T07:37:39.518784Z",
     "iopub.status.busy": "2023-12-18T07:37:39.518362Z",
     "iopub.status.idle": "2023-12-18T07:37:39.726819Z",
     "shell.execute_reply": "2023-12-18T07:37:39.725697Z"
    },
    "papermill": {
     "duration": 0.223406,
     "end_time": "2023-12-18T07:37:39.729268",
     "exception": false,
     "start_time": "2023-12-18T07:37:39.505862",
     "status": "completed"
    },
    "tags": []
   },
   "outputs": [
    {
     "data": {
      "text/plain": [
       "<Axes: xlabel='Payment Method'>"
      ]
     },
     "execution_count": 9,
     "metadata": {},
     "output_type": "execute_result"
    },
    {
     "data": {
      "image/png": "[encoded data removed]",
      "text/plain": [
       "<Figure size 640x480 with 1 Axes>"
      ]
     },
     "metadata": {},
     "output_type": "display_data"
    }
   ],
   "source": [
    "shopping_behavior['Payment Method'].value_counts().plot(kind='bar')"
   ]
  },
  {
   "cell_type": "markdown",
   "id": "a02f68f0",
   "metadata": {
    "papermill": {
     "duration": 0.011515,
     "end_time": "2023-12-18T07:37:39.816894",
     "exception": false,
     "start_time": "2023-12-18T07:37:39.805379",
     "status": "completed"
    },
    "tags": []
   },
   "source": [
    "Let's group the above into categories for our analysis"
   ]
  },
  {
   "cell_type": "code",
   "execution_count": 10,
   "id": "2e0db330",
   "metadata": {
    "execution": {
     "iopub.execute_input": "2023-12-18T07:37:39.842551Z",
     "iopub.status.busy": "2023-12-18T07:37:39.841767Z",
     "iopub.status.idle": "2023-12-18T07:37:40.032024Z",
     "shell.execute_reply": "2023-12-18T07:37:40.030900Z"
    },
    "papermill": {
     "duration": 0.206193,
     "end_time": "2023-12-18T07:37:40.034582",
     "exception": false,
     "start_time": "2023-12-18T07:37:39.828389",
     "status": "completed"
    },
    "tags": []
   },
   "outputs": [
    {
     "data": {
      "text/plain": [
       "<Axes: xlabel='Payment Category'>"
      ]
     },
     "execution_count": 10,
     "metadata": {},
     "output_type": "execute_result"
    },
    {
     "data": {
      "image/png": "[encoded data removed]",
      "text/plain": [
       "<Figure size 640x480 with 1 Axes>"
      ]
     },
     "metadata": {},
     "output_type": "display_data"
    }
   ],
   "source": [
    "shopping_behavior['Payment Category'] = ''\n",
    "shopping_behavior.loc[shopping_behavior['Payment Method'].isin(['Credit Card', 'Debit Card'])   ,'Payment Category'] = 'Credit Debit Cards'\n",
    "shopping_behavior.loc[shopping_behavior['Payment Method'].isin(['PayPal', 'Venmo'])   ,'Payment Category'] = 'Payment Services'\n",
    "shopping_behavior.loc[shopping_behavior['Payment Method'].isin(['Cash', 'Bank Transfer'])   ,'Payment Category'] = 'Cash'\n",
    "\n",
    "shopping_behavior['Payment Category'].value_counts().plot(kind='bar')"
   ]
  },
  {
   "cell_type": "markdown",
   "id": "536ad47e",
   "metadata": {
    "papermill": {
     "duration": 0.011793,
     "end_time": "2023-12-18T07:37:40.058658",
     "exception": false,
     "start_time": "2023-12-18T07:37:40.046865",
     "status": "completed"
    },
    "tags": []
   },
   "source": [
    "We can conclude the payment methods are evenly distributed across the dataset."
   ]
  },
  {
   "cell_type": "code",
   "execution_count": 11,
   "id": "5267d28c",
   "metadata": {
    "execution": {
     "iopub.execute_input": "2023-12-18T07:37:40.085001Z",
     "iopub.status.busy": "2023-12-18T07:37:40.084212Z",
     "iopub.status.idle": "2023-12-18T07:37:40.294935Z",
     "shell.execute_reply": "2023-12-18T07:37:40.293828Z"
    },
    "papermill": {
     "duration": 0.226738,
     "end_time": "2023-12-18T07:37:40.297368",
     "exception": false,
     "start_time": "2023-12-18T07:37:40.070630",
     "status": "completed"
    },
    "tags": []
   },
   "outputs": [
    {
     "data": {
      "text/plain": [
       "<Axes: xlabel='Shipping Type'>"
      ]
     },
     "execution_count": 11,
     "metadata": {},
     "output_type": "execute_result"
    },
    {
     "data": {
      "image/png": "[encoded data removed]",
      "text/plain": [
       "<Figure size 640x480 with 1 Axes>"
      ]
     },
     "metadata": {},
     "output_type": "display_data"
    }
   ],
   "source": [
    "shopping_behavior['Shipping Type'].value_counts().plot(kind='bar')"
   ]
  },
  {
   "cell_type": "markdown",
   "id": "bdc09682",
   "metadata": {
    "papermill": {
     "duration": 0.013113,
     "end_time": "2023-12-18T07:37:40.325282",
     "exception": false,
     "start_time": "2023-12-18T07:37:40.312169",
     "status": "completed"
    },
    "tags": []
   },
   "source": [
    "Does the season affect the shopping type?"
   ]
  },
  {
   "cell_type": "code",
   "execution_count": 12,
   "id": "8efc5280",
   "metadata": {
    "execution": {
     "iopub.execute_input": "2023-12-18T07:37:40.357821Z",
     "iopub.status.busy": "2023-12-18T07:37:40.357351Z",
     "iopub.status.idle": "2023-12-18T07:37:40.759971Z",
     "shell.execute_reply": "2023-12-18T07:37:40.759062Z"
    },
    "papermill": {
     "duration": 0.423571,
     "end_time": "2023-12-18T07:37:40.762355",
     "exception": false,
     "start_time": "2023-12-18T07:37:40.338784",
     "status": "completed"
    },
    "tags": []
   },
   "outputs": [
    {
     "data": {
      "text/plain": [
       "<Axes: xlabel='Season'>"
      ]
     },
     "execution_count": 12,
     "metadata": {},
     "output_type": "execute_result"
    },
    {
     "data": {
      "image/png": "[encoded data removed]",
      "text/plain": [
       "<Figure size 640x480 with 1 Axes>"
      ]
     },
     "metadata": {},
     "output_type": "display_data"
    }
   ],
   "source": [
    "shopping_behavior.groupby(['Season', 'Shipping Type'])['Customer ID'].sum().unstack(1).plot.bar(rot=45)"
   ]
  },
  {
   "cell_type": "markdown",
   "id": "9ddc758d",
   "metadata": {
    "papermill": {
     "duration": 0.013186,
     "end_time": "2023-12-18T07:37:40.788863",
     "exception": false,
     "start_time": "2023-12-18T07:37:40.775677",
     "status": "completed"
    },
    "tags": []
   },
   "source": [
    "This looks better but it's messy. We will need to order both the Seasons and Shipping Type for a better picture.\n",
    "\n",
    "In this case, they are both categoricals so the default sorting is alphabetically. To order them to aid in our analysis, we will need to do the following:"
   ]
  },
  {
   "cell_type": "code",
   "execution_count": 13,
   "id": "451f65cc",
   "metadata": {
    "execution": {
     "iopub.execute_input": "2023-12-18T07:37:40.818603Z",
     "iopub.status.busy": "2023-12-18T07:37:40.817955Z",
     "iopub.status.idle": "2023-12-18T07:37:41.204248Z",
     "shell.execute_reply": "2023-12-18T07:37:41.203155Z"
    },
    "papermill": {
     "duration": 0.403927,
     "end_time": "2023-12-18T07:37:41.206660",
     "exception": false,
     "start_time": "2023-12-18T07:37:40.802733",
     "status": "completed"
    },
    "tags": []
   },
   "outputs": [
    {
     "data": {
      "image/png": "[encoded data removed]",
      "text/plain": [
       "<Figure size 640x480 with 1 Axes>"
      ]
     },
     "metadata": {},
     "output_type": "display_data"
    }
   ],
   "source": [
    "season = CategoricalDtype(['Spring', 'Summer', 'Fall', 'Winter'], ordered=True)\n",
    "shopping_behavior['Season'] = shopping_behavior['Season'].astype(season)\n",
    "\n",
    "shipping_type = CategoricalDtype(['Free Shipping', 'Standard', 'Express', \n",
    "                                  '2-Day Shipping', 'Next Day Air',\n",
    "                                  'Store Pickup'], ordered=True)\n",
    "shopping_behavior['Shipping Type'] = shopping_behavior['Shipping Type'].astype(shipping_type)\n",
    "\n",
    "ax = shopping_behavior.groupby(['Season', 'Shipping Type'])['Customer ID'].sum().unstack(1).plot.bar(rot=45)\n",
    "sns.move_legend(ax, \"upper left\", bbox_to_anchor=(1, 1))\n"
   ]
  },
  {
   "cell_type": "markdown",
   "id": "b5711ac5",
   "metadata": {
    "papermill": {
     "duration": 0.013735,
     "end_time": "2023-12-18T07:37:41.234661",
     "exception": false,
     "start_time": "2023-12-18T07:37:41.220926",
     "status": "completed"
    },
    "tags": []
   },
   "source": [
    "Much better.\n",
    "\n",
    "Let's also dive into a few other interesting attributes to see if we can uncover anymore patterns."
   ]
  },
  {
   "cell_type": "code",
   "execution_count": 14,
   "id": "fd374836",
   "metadata": {
    "execution": {
     "iopub.execute_input": "2023-12-18T07:37:41.267644Z",
     "iopub.status.busy": "2023-12-18T07:37:41.266151Z",
     "iopub.status.idle": "2023-12-18T07:37:41.520417Z",
     "shell.execute_reply": "2023-12-18T07:37:41.519233Z"
    },
    "papermill": {
     "duration": 0.272903,
     "end_time": "2023-12-18T07:37:41.522953",
     "exception": false,
     "start_time": "2023-12-18T07:37:41.250050",
     "status": "completed"
    },
    "tags": []
   },
   "outputs": [
    {
     "data": {
      "image/png": "[encoded data removed]",
      "text/plain": [
       "<Figure size 640x480 with 1 Axes>"
      ]
     },
     "metadata": {},
     "output_type": "display_data"
    }
   ],
   "source": [
    "ax = shopping_behavior.groupby(['Gender', 'Subscription Status'])['Purchase Amount (USD)'].sum().unstack(1).plot.bar(rot=45)\n",
    "sns.move_legend(ax, \"upper left\", bbox_to_anchor=(1, 1))"
   ]
  },
  {
   "cell_type": "markdown",
   "id": "211e64b5",
   "metadata": {
    "papermill": {
     "duration": 0.014946,
     "end_time": "2023-12-18T07:37:41.552780",
     "exception": false,
     "start_time": "2023-12-18T07:37:41.537834",
     "status": "completed"
    },
    "tags": []
   },
   "source": [
    "This is actually interesting. I wasn't quite expecting this result :)\n",
    "\n",
    "Let's dig more into this similar issue to uncover if there are any accompanying trends"
   ]
  },
  {
   "cell_type": "code",
   "execution_count": 15,
   "id": "58723592",
   "metadata": {
    "execution": {
     "iopub.execute_input": "2023-12-18T07:37:41.583439Z",
     "iopub.status.busy": "2023-12-18T07:37:41.583056Z",
     "iopub.status.idle": "2023-12-18T07:37:41.591238Z",
     "shell.execute_reply": "2023-12-18T07:37:41.590441Z"
    },
    "papermill": {
     "duration": 0.026171,
     "end_time": "2023-12-18T07:37:41.593391",
     "exception": false,
     "start_time": "2023-12-18T07:37:41.567220",
     "status": "completed"
    },
    "tags": []
   },
   "outputs": [
    {
     "data": {
      "text/plain": [
       "Discount Applied\n",
       "No     2223\n",
       "Yes    1677\n",
       "Name: count, dtype: int64"
      ]
     },
     "execution_count": 15,
     "metadata": {},
     "output_type": "execute_result"
    }
   ],
   "source": [
    "## discount and coupon codes\n",
    "shopping_behavior['Discount Applied'].value_counts()"
   ]
  },
  {
   "cell_type": "code",
   "execution_count": 16,
   "id": "326d5939",
   "metadata": {
    "execution": {
     "iopub.execute_input": "2023-12-18T07:37:41.625273Z",
     "iopub.status.busy": "2023-12-18T07:37:41.624621Z",
     "iopub.status.idle": "2023-12-18T07:37:41.632007Z",
     "shell.execute_reply": "2023-12-18T07:37:41.631039Z"
    },
    "papermill": {
     "duration": 0.025915,
     "end_time": "2023-12-18T07:37:41.634173",
     "exception": false,
     "start_time": "2023-12-18T07:37:41.608258",
     "status": "completed"
    },
    "tags": []
   },
   "outputs": [
    {
     "data": {
      "text/plain": [
       "Promo Code Used\n",
       "No     2223\n",
       "Yes    1677\n",
       "Name: count, dtype: int64"
      ]
     },
     "execution_count": 16,
     "metadata": {},
     "output_type": "execute_result"
    }
   ],
   "source": [
    "shopping_behavior['Promo Code Used'].value_counts()"
   ]
  },
  {
   "cell_type": "code",
   "execution_count": 17,
   "id": "5c7aee9b",
   "metadata": {
    "execution": {
     "iopub.execute_input": "2023-12-18T07:37:41.665803Z",
     "iopub.status.busy": "2023-12-18T07:37:41.665184Z",
     "iopub.status.idle": "2023-12-18T07:37:41.679684Z",
     "shell.execute_reply": "2023-12-18T07:37:41.678590Z"
    },
    "papermill": {
     "duration": 0.033271,
     "end_time": "2023-12-18T07:37:41.682178",
     "exception": false,
     "start_time": "2023-12-18T07:37:41.648907",
     "status": "completed"
    },
    "tags": []
   },
   "outputs": [
    {
     "name": "stdout",
     "output_type": "stream",
     "text": [
      "<class 'pandas.core.frame.DataFrame'>\n",
      "RangeIndex: 3900 entries, 0 to 3899\n",
      "Data columns (total 19 columns):\n",
      " #   Column                  Non-Null Count  Dtype   \n",
      "---  ------                  --------------  -----   \n",
      " 0   Customer ID             3900 non-null   int64   \n",
      " 1   Age                     3900 non-null   int64   \n",
      " 2   Gender                  3900 non-null   object  \n",
      " 3   Item Purchased          3900 non-null   object  \n",
      " 4   Category                3900 non-null   object  \n",
      " 5   Purchase Amount (USD)   3900 non-null   int64   \n",
      " 6   Location                3900 non-null   object  \n",
      " 7   Size                    3900 non-null   object  \n",
      " 8   Color                   3900 non-null   object  \n",
      " 9   Season                  3900 non-null   category\n",
      " 10  Review Rating           3900 non-null   float64 \n",
      " 11  Subscription Status     3900 non-null   object  \n",
      " 12  Shipping Type           3900 non-null   category\n",
      " 13  Discount Applied        3900 non-null   object  \n",
      " 14  Promo Code Used         3900 non-null   object  \n",
      " 15  Previous Purchases      3900 non-null   int64   \n",
      " 16  Payment Method          3900 non-null   object  \n",
      " 17  Frequency of Purchases  3900 non-null   object  \n",
      " 18  Payment Category        3900 non-null   object  \n",
      "dtypes: category(2), float64(1), int64(4), object(12)\n",
      "memory usage: 526.1+ KB\n"
     ]
    }
   ],
   "source": [
    "shopping_behavior.info()"
   ]
  },
  {
   "cell_type": "code",
   "execution_count": 18,
   "id": "084ac497",
   "metadata": {
    "execution": {
     "iopub.execute_input": "2023-12-18T07:37:41.713726Z",
     "iopub.status.busy": "2023-12-18T07:37:41.712987Z",
     "iopub.status.idle": "2023-12-18T07:37:41.724413Z",
     "shell.execute_reply": "2023-12-18T07:37:41.723375Z"
    },
    "papermill": {
     "duration": 0.029508,
     "end_time": "2023-12-18T07:37:41.726538",
     "exception": false,
     "start_time": "2023-12-18T07:37:41.697030",
     "status": "completed"
    },
    "tags": []
   },
   "outputs": [
    {
     "data": {
      "text/plain": [
       "Discount Promo Codes\n",
       "Yes    2223\n",
       "No     1677\n",
       "Name: count, dtype: int64"
      ]
     },
     "execution_count": 18,
     "metadata": {},
     "output_type": "execute_result"
    }
   ],
   "source": [
    "shopping_behavior['Discount Promo Codes'] = 'Yes'\n",
    "\n",
    "shopping_behavior.loc[(shopping_behavior['Discount Applied']=='Yes')| (shopping_behavior['Promo Code Used']=='Yes'),'Discount Promo Codes'] = 'No'\n",
    "\n",
    "shopping_behavior['Discount Promo Codes'].value_counts()"
   ]
  },
  {
   "cell_type": "markdown",
   "id": "51fc2120",
   "metadata": {
    "papermill": {
     "duration": 0.014257,
     "end_time": "2023-12-18T07:37:41.755470",
     "exception": false,
     "start_time": "2023-12-18T07:37:41.741213",
     "status": "completed"
    },
    "tags": []
   },
   "source": [
    "In this case, Discount Applied and Promo Code Used refer to the same thing but they may not. We may choose to perform some logic which I have done in the above to be scalable. Otherwise to simplify things, we may wish to drop 1 redundant column.  It really depends on the context and dataset."
   ]
  },
  {
   "cell_type": "code",
   "execution_count": 19,
   "id": "54d7a94c",
   "metadata": {
    "execution": {
     "iopub.execute_input": "2023-12-18T07:37:41.786923Z",
     "iopub.status.busy": "2023-12-18T07:37:41.786147Z",
     "iopub.status.idle": "2023-12-18T07:37:42.049936Z",
     "shell.execute_reply": "2023-12-18T07:37:42.048836Z"
    },
    "papermill": {
     "duration": 0.282089,
     "end_time": "2023-12-18T07:37:42.052216",
     "exception": false,
     "start_time": "2023-12-18T07:37:41.770127",
     "status": "completed"
    },
    "tags": []
   },
   "outputs": [
    {
     "data": {
      "image/png": "[encoded data removed]",
      "text/plain": [
       "<Figure size 640x480 with 1 Axes>"
      ]
     },
     "metadata": {},
     "output_type": "display_data"
    }
   ],
   "source": [
    "ax = shopping_behavior.groupby(['Gender', 'Discount Promo Codes'])['Purchase Amount (USD)'].sum().unstack(1).plot.bar(rot=45)\n",
    "sns.move_legend(ax, \"upper left\", bbox_to_anchor=(1, 1))"
   ]
  },
  {
   "cell_type": "markdown",
   "id": "67af6256",
   "metadata": {
    "papermill": {
     "duration": 0.014721,
     "end_time": "2023-12-18T07:37:42.081810",
     "exception": false,
     "start_time": "2023-12-18T07:37:42.067089",
     "status": "completed"
    },
    "tags": []
   },
   "source": [
    "Wow! The results are now reversed! :)"
   ]
  },
  {
   "cell_type": "code",
   "execution_count": 20,
   "id": "1e443e2b",
   "metadata": {
    "execution": {
     "iopub.execute_input": "2023-12-18T07:37:42.113408Z",
     "iopub.status.busy": "2023-12-18T07:37:42.113016Z",
     "iopub.status.idle": "2023-12-18T07:37:42.133187Z",
     "shell.execute_reply": "2023-12-18T07:37:42.132083Z"
    },
    "papermill": {
     "duration": 0.038621,
     "end_time": "2023-12-18T07:37:42.135348",
     "exception": false,
     "start_time": "2023-12-18T07:37:42.096727",
     "status": "completed"
    },
    "tags": []
   },
   "outputs": [
    {
     "data": {
      "text/html": [
       "<div>\n",
       "<style scoped>\n",
       "    .dataframe tbody tr th:only-of-type {\n",
       "        vertical-align: middle;\n",
       "    }\n",
       "\n",
       "    .dataframe tbody tr th {\n",
       "        vertical-align: top;\n",
       "    }\n",
       "\n",
       "    .dataframe thead th {\n",
       "        text-align: right;\n",
       "    }\n",
       "</style>\n",
       "<table border=\"1\" class=\"dataframe\">\n",
       "  <thead>\n",
       "    <tr style=\"text-align: right;\">\n",
       "      <th>Subscription Status</th>\n",
       "      <th>No</th>\n",
       "      <th>Yes</th>\n",
       "    </tr>\n",
       "    <tr>\n",
       "      <th>Discount Promo Codes</th>\n",
       "      <th></th>\n",
       "      <th></th>\n",
       "    </tr>\n",
       "  </thead>\n",
       "  <tbody>\n",
       "    <tr>\n",
       "      <th>No</th>\n",
       "      <td>624</td>\n",
       "      <td>1053</td>\n",
       "    </tr>\n",
       "    <tr>\n",
       "      <th>Yes</th>\n",
       "      <td>2223</td>\n",
       "      <td>0</td>\n",
       "    </tr>\n",
       "  </tbody>\n",
       "</table>\n",
       "</div>"
      ],
      "text/plain": [
       "Subscription Status     No   Yes\n",
       "Discount Promo Codes            \n",
       "No                     624  1053\n",
       "Yes                   2223     0"
      ]
     },
     "execution_count": 20,
     "metadata": {},
     "output_type": "execute_result"
    }
   ],
   "source": [
    "crosstab_res = pd.crosstab(index=shopping_behavior['Discount Promo Codes'],columns = shopping_behavior['Subscription Status'])\n",
    "crosstab_res"
   ]
  },
  {
   "cell_type": "code",
   "execution_count": 21,
   "id": "188d8526",
   "metadata": {
    "execution": {
     "iopub.execute_input": "2023-12-18T07:37:42.167651Z",
     "iopub.status.busy": "2023-12-18T07:37:42.166639Z",
     "iopub.status.idle": "2023-12-18T07:37:42.175535Z",
     "shell.execute_reply": "2023-12-18T07:37:42.174536Z"
    },
    "papermill": {
     "duration": 0.027013,
     "end_time": "2023-12-18T07:37:42.177494",
     "exception": false,
     "start_time": "2023-12-18T07:37:42.150481",
     "status": "completed"
    },
    "tags": []
   },
   "outputs": [
    {
     "name": "stdout",
     "output_type": "stream",
     "text": [
      "The P-Value of the Chi Sq Test is: 0.0\n"
     ]
    }
   ],
   "source": [
    "from scipy.stats import chi2_contingency\n",
    "\n",
    "# Performing Chi-sq test\n",
    "chisq_res = chi2_contingency(crosstab_res)\n",
    "\n",
    "# P-Value is the Probability of H0 being True\n",
    "# If P-Value > 0.05 then only we Accept the assumption(H0)\n",
    "\n",
    "print('The P-Value of the Chi Sq Test is:', chisq_res[1])"
   ]
  },
  {
   "cell_type": "markdown",
   "id": "434ad6c8",
   "metadata": {
    "papermill": {
     "duration": 0.015001,
     "end_time": "2023-12-18T07:37:42.208527",
     "exception": false,
     "start_time": "2023-12-18T07:37:42.193526",
     "status": "completed"
    },
    "tags": []
   },
   "source": [
    "The H0 used in the Chi-square test means he variables are not correlated with each other. Since the P-value is zero, H0 will NOT be accepted - this means 'Discount Promo Codes' is highly correlated to 'Subscription Status', which makes sense as regular subcribers may already enjoy a subscription incentive and have no need (or probably not eligible) to stack on any other discounts or promo codes."
   ]
  },
  {
   "cell_type": "markdown",
   "id": "cc7321b7",
   "metadata": {
    "papermill": {
     "duration": 0.015399,
     "end_time": "2023-12-18T07:37:42.239113",
     "exception": false,
     "start_time": "2023-12-18T07:37:42.223714",
     "status": "completed"
    },
    "tags": []
   },
   "source": [
    "Let's look at the bigger picture for overall correlation"
   ]
  },
  {
   "cell_type": "code",
   "execution_count": 22,
   "id": "97760825",
   "metadata": {
    "execution": {
     "iopub.execute_input": "2023-12-18T07:37:42.275337Z",
     "iopub.status.busy": "2023-12-18T07:37:42.274670Z",
     "iopub.status.idle": "2023-12-18T07:37:42.286062Z",
     "shell.execute_reply": "2023-12-18T07:37:42.285238Z"
    },
    "papermill": {
     "duration": 0.031526,
     "end_time": "2023-12-18T07:37:42.288175",
     "exception": false,
     "start_time": "2023-12-18T07:37:42.256649",
     "status": "completed"
    },
    "tags": []
   },
   "outputs": [
    {
     "data": {
      "text/html": [
       "<div>\n",
       "<style scoped>\n",
       "    .dataframe tbody tr th:only-of-type {\n",
       "        vertical-align: middle;\n",
       "    }\n",
       "\n",
       "    .dataframe tbody tr th {\n",
       "        vertical-align: top;\n",
       "    }\n",
       "\n",
       "    .dataframe thead th {\n",
       "        text-align: right;\n",
       "    }\n",
       "</style>\n",
       "<table border=\"1\" class=\"dataframe\">\n",
       "  <thead>\n",
       "    <tr style=\"text-align: right;\">\n",
       "      <th></th>\n",
       "      <th>cat_ind</th>\n",
       "      <th>cat_name</th>\n",
       "    </tr>\n",
       "  </thead>\n",
       "  <tbody>\n",
       "    <tr>\n",
       "      <th>0</th>\n",
       "      <td>2</td>\n",
       "      <td>Gender</td>\n",
       "    </tr>\n",
       "    <tr>\n",
       "      <th>1</th>\n",
       "      <td>3</td>\n",
       "      <td>Item Purchased</td>\n",
       "    </tr>\n",
       "    <tr>\n",
       "      <th>2</th>\n",
       "      <td>4</td>\n",
       "      <td>Category</td>\n",
       "    </tr>\n",
       "    <tr>\n",
       "      <th>3</th>\n",
       "      <td>6</td>\n",
       "      <td>Location</td>\n",
       "    </tr>\n",
       "    <tr>\n",
       "      <th>4</th>\n",
       "      <td>7</td>\n",
       "      <td>Size</td>\n",
       "    </tr>\n",
       "    <tr>\n",
       "      <th>5</th>\n",
       "      <td>8</td>\n",
       "      <td>Color</td>\n",
       "    </tr>\n",
       "    <tr>\n",
       "      <th>6</th>\n",
       "      <td>9</td>\n",
       "      <td>Season</td>\n",
       "    </tr>\n",
       "    <tr>\n",
       "      <th>7</th>\n",
       "      <td>11</td>\n",
       "      <td>Subscription Status</td>\n",
       "    </tr>\n",
       "    <tr>\n",
       "      <th>8</th>\n",
       "      <td>12</td>\n",
       "      <td>Shipping Type</td>\n",
       "    </tr>\n",
       "    <tr>\n",
       "      <th>9</th>\n",
       "      <td>13</td>\n",
       "      <td>Discount Applied</td>\n",
       "    </tr>\n",
       "    <tr>\n",
       "      <th>10</th>\n",
       "      <td>14</td>\n",
       "      <td>Promo Code Used</td>\n",
       "    </tr>\n",
       "    <tr>\n",
       "      <th>11</th>\n",
       "      <td>16</td>\n",
       "      <td>Payment Method</td>\n",
       "    </tr>\n",
       "    <tr>\n",
       "      <th>12</th>\n",
       "      <td>17</td>\n",
       "      <td>Frequency of Purchases</td>\n",
       "    </tr>\n",
       "    <tr>\n",
       "      <th>13</th>\n",
       "      <td>18</td>\n",
       "      <td>Payment Category</td>\n",
       "    </tr>\n",
       "    <tr>\n",
       "      <th>14</th>\n",
       "      <td>19</td>\n",
       "      <td>Discount Promo Codes</td>\n",
       "    </tr>\n",
       "  </tbody>\n",
       "</table>\n",
       "</div>"
      ],
      "text/plain": [
       "    cat_ind                cat_name\n",
       "0         2                  Gender\n",
       "1         3          Item Purchased\n",
       "2         4                Category\n",
       "3         6                Location\n",
       "4         7                    Size\n",
       "5         8                   Color\n",
       "6         9                  Season\n",
       "7        11     Subscription Status\n",
       "8        12           Shipping Type\n",
       "9        13        Discount Applied\n",
       "10       14         Promo Code Used\n",
       "11       16          Payment Method\n",
       "12       17  Frequency of Purchases\n",
       "13       18        Payment Category\n",
       "14       19    Discount Promo Codes"
      ]
     },
     "execution_count": 22,
     "metadata": {},
     "output_type": "execute_result"
    }
   ],
   "source": [
    "col_type = shopping_behavior.dtypes\n",
    "col_names = list(shopping_behavior)\n",
    "\n",
    "cat_var_index = [i for i, x in enumerate(col_type) if ((x == 'object')|(x == 'string')|(x == 'category'))]\n",
    "\n",
    "cat_var_name = [x for i, x in enumerate(col_names) if i in cat_var_index]\n",
    "\n",
    "cat_var_df = pd.DataFrame({'cat_ind': cat_var_index, \n",
    "                           'cat_name': cat_var_name})\n",
    "cat_var_df"
   ]
  },
  {
   "cell_type": "code",
   "execution_count": 23,
   "id": "eb141940",
   "metadata": {
    "execution": {
     "iopub.execute_input": "2023-12-18T07:37:42.321944Z",
     "iopub.status.busy": "2023-12-18T07:37:42.321301Z",
     "iopub.status.idle": "2023-12-18T07:37:42.326782Z",
     "shell.execute_reply": "2023-12-18T07:37:42.326011Z"
    },
    "papermill": {
     "duration": 0.024625,
     "end_time": "2023-12-18T07:37:42.328774",
     "exception": false,
     "start_time": "2023-12-18T07:37:42.304149",
     "status": "completed"
    },
    "tags": []
   },
   "outputs": [
    {
     "data": {
      "text/plain": [
       "['Gender',\n",
       " 'Item Purchased',\n",
       " 'Category',\n",
       " 'Location',\n",
       " 'Size',\n",
       " 'Color',\n",
       " 'Season',\n",
       " 'Subscription Status',\n",
       " 'Shipping Type',\n",
       " 'Discount Applied',\n",
       " 'Promo Code Used',\n",
       " 'Payment Method',\n",
       " 'Frequency of Purchases',\n",
       " 'Payment Category',\n",
       " 'Discount Promo Codes']"
      ]
     },
     "execution_count": 23,
     "metadata": {},
     "output_type": "execute_result"
    }
   ],
   "source": [
    "cat_var_name"
   ]
  },
  {
   "cell_type": "code",
   "execution_count": 24,
   "id": "bbac3c57",
   "metadata": {
    "execution": {
     "iopub.execute_input": "2023-12-18T07:37:42.365485Z",
     "iopub.status.busy": "2023-12-18T07:37:42.364843Z",
     "iopub.status.idle": "2023-12-18T07:37:42.372452Z",
     "shell.execute_reply": "2023-12-18T07:37:42.371486Z"
    },
    "papermill": {
     "duration": 0.028629,
     "end_time": "2023-12-18T07:37:42.374707",
     "exception": false,
     "start_time": "2023-12-18T07:37:42.346078",
     "status": "completed"
    },
    "tags": []
   },
   "outputs": [
    {
     "data": {
      "text/plain": [
       "0                     Gender\n",
       "1             Item Purchased\n",
       "2                   Category\n",
       "3                   Location\n",
       "4                       Size\n",
       "5                      Color\n",
       "6                     Season\n",
       "7        Subscription Status\n",
       "8              Shipping Type\n",
       "9           Discount Applied\n",
       "10           Promo Code Used\n",
       "11            Payment Method\n",
       "12    Frequency of Purchases\n",
       "13          Payment Category\n",
       "14      Discount Promo Codes\n",
       "Name: cat_name, dtype: object"
      ]
     },
     "execution_count": 24,
     "metadata": {},
     "output_type": "execute_result"
    }
   ],
   "source": [
    "label_list = []\n",
    "cat_list = cat_var_df.loc[:, 'cat_name']\n",
    "cat_list"
   ]
  },
  {
   "cell_type": "code",
   "execution_count": 25,
   "id": "a6a42680",
   "metadata": {
    "execution": {
     "iopub.execute_input": "2023-12-18T07:37:42.409548Z",
     "iopub.status.busy": "2023-12-18T07:37:42.408900Z",
     "iopub.status.idle": "2023-12-18T07:37:42.437028Z",
     "shell.execute_reply": "2023-12-18T07:37:42.435839Z"
    },
    "papermill": {
     "duration": 0.048168,
     "end_time": "2023-12-18T07:37:42.439735",
     "exception": false,
     "start_time": "2023-12-18T07:37:42.391567",
     "status": "completed"
    },
    "tags": []
   },
   "outputs": [],
   "source": [
    "shopping_behavior_vector = shopping_behavior\n",
    "\n",
    "for index, cat_feature in enumerate(cat_list): \n",
    "\n",
    "    le = LabelEncoder()\n",
    "\n",
    "    le.fit(shopping_behavior.loc[:, cat_feature])    \n",
    "    label_list.append(list(le.classes_))\n",
    "\n",
    "    shopping_behavior.loc[:, cat_feature] = le.transform(shopping_behavior.loc[:, cat_feature])"
   ]
  },
  {
   "cell_type": "code",
   "execution_count": 26,
   "id": "66441dd3",
   "metadata": {
    "execution": {
     "iopub.execute_input": "2023-12-18T07:37:42.472934Z",
     "iopub.status.busy": "2023-12-18T07:37:42.472532Z",
     "iopub.status.idle": "2023-12-18T07:37:42.504274Z",
     "shell.execute_reply": "2023-12-18T07:37:42.502645Z"
    },
    "papermill": {
     "duration": 0.051013,
     "end_time": "2023-12-18T07:37:42.506563",
     "exception": false,
     "start_time": "2023-12-18T07:37:42.455550",
     "status": "completed"
    },
    "tags": []
   },
   "outputs": [
    {
     "name": "stdout",
     "output_type": "stream",
     "text": [
      "<class 'pandas.core.frame.DataFrame'>\n",
      "RangeIndex: 3900 entries, 0 to 3899\n",
      "Data columns (total 20 columns):\n",
      " #   Column                  Non-Null Count  Dtype  \n",
      "---  ------                  --------------  -----  \n",
      " 0   Customer ID             3900 non-null   Int64  \n",
      " 1   Age                     3900 non-null   Int64  \n",
      " 2   Gender                  3900 non-null   Int64  \n",
      " 3   Item Purchased          3900 non-null   Int64  \n",
      " 4   Category                3900 non-null   Int64  \n",
      " 5   Purchase Amount (USD)   3900 non-null   Int64  \n",
      " 6   Location                3900 non-null   Int64  \n",
      " 7   Size                    3900 non-null   Int64  \n",
      " 8   Color                   3900 non-null   Int64  \n",
      " 9   Season                  3900 non-null   Int64  \n",
      " 10  Review Rating           3900 non-null   Float64\n",
      " 11  Subscription Status     3900 non-null   Int64  \n",
      " 12  Shipping Type           3900 non-null   Int64  \n",
      " 13  Discount Applied        3900 non-null   Int64  \n",
      " 14  Promo Code Used         3900 non-null   Int64  \n",
      " 15  Previous Purchases      3900 non-null   Int64  \n",
      " 16  Payment Method          3900 non-null   Int64  \n",
      " 17  Frequency of Purchases  3900 non-null   Int64  \n",
      " 18  Payment Category        3900 non-null   Int64  \n",
      " 19  Discount Promo Codes    3900 non-null   Int64  \n",
      "dtypes: Float64(1), Int64(19)\n",
      "memory usage: 685.7 KB\n"
     ]
    }
   ],
   "source": [
    "shopping_behavior_vector = shopping_behavior_vector.convert_dtypes()\n",
    "shopping_behavior_vector.info()"
   ]
  },
  {
   "cell_type": "code",
   "execution_count": 27,
   "id": "7f29f1d5",
   "metadata": {
    "execution": {
     "iopub.execute_input": "2023-12-18T07:37:42.540922Z",
     "iopub.status.busy": "2023-12-18T07:37:42.540478Z",
     "iopub.status.idle": "2023-12-18T07:37:42.549045Z",
     "shell.execute_reply": "2023-12-18T07:37:42.548014Z"
    },
    "papermill": {
     "duration": 0.028461,
     "end_time": "2023-12-18T07:37:42.551144",
     "exception": false,
     "start_time": "2023-12-18T07:37:42.522683",
     "status": "completed"
    },
    "tags": []
   },
   "outputs": [
    {
     "data": {
      "text/plain": [
       "[['Female', 'Male'],\n",
       " ['Backpack',\n",
       "  'Belt',\n",
       "  'Blouse',\n",
       "  'Boots',\n",
       "  'Coat',\n",
       "  'Dress',\n",
       "  'Gloves',\n",
       "  'Handbag',\n",
       "  'Hat',\n",
       "  'Hoodie',\n",
       "  'Jacket',\n",
       "  'Jeans',\n",
       "  'Jewelry',\n",
       "  'Pants',\n",
       "  'Sandals',\n",
       "  'Scarf',\n",
       "  'Shirt',\n",
       "  'Shoes',\n",
       "  'Shorts',\n",
       "  'Skirt',\n",
       "  'Sneakers',\n",
       "  'Socks',\n",
       "  'Sunglasses',\n",
       "  'Sweater',\n",
       "  'T-shirt'],\n",
       " ['Accessories', 'Clothing', 'Footwear', 'Outerwear'],\n",
       " ['Alabama',\n",
       "  'Alaska',\n",
       "  'Arizona',\n",
       "  'Arkansas',\n",
       "  'California',\n",
       "  'Colorado',\n",
       "  'Connecticut',\n",
       "  'Delaware',\n",
       "  'Florida',\n",
       "  'Georgia',\n",
       "  'Hawaii',\n",
       "  'Idaho',\n",
       "  'Illinois',\n",
       "  'Indiana',\n",
       "  'Iowa',\n",
       "  'Kansas',\n",
       "  'Kentucky',\n",
       "  'Louisiana',\n",
       "  'Maine',\n",
       "  'Maryland',\n",
       "  'Massachusetts',\n",
       "  'Michigan',\n",
       "  'Minnesota',\n",
       "  'Mississippi',\n",
       "  'Missouri',\n",
       "  'Montana',\n",
       "  'Nebraska',\n",
       "  'Nevada',\n",
       "  'New Hampshire',\n",
       "  'New Jersey',\n",
       "  'New Mexico',\n",
       "  'New York',\n",
       "  'North Carolina',\n",
       "  'North Dakota',\n",
       "  'Ohio',\n",
       "  'Oklahoma',\n",
       "  'Oregon',\n",
       "  'Pennsylvania',\n",
       "  'Rhode Island',\n",
       "  'South Carolina',\n",
       "  'South Dakota',\n",
       "  'Tennessee',\n",
       "  'Texas',\n",
       "  'Utah',\n",
       "  'Vermont',\n",
       "  'Virginia',\n",
       "  'Washington',\n",
       "  'West Virginia',\n",
       "  'Wisconsin',\n",
       "  'Wyoming'],\n",
       " ['L', 'M', 'S', 'XL'],\n",
       " ['Beige',\n",
       "  'Black',\n",
       "  'Blue',\n",
       "  'Brown',\n",
       "  'Charcoal',\n",
       "  'Cyan',\n",
       "  'Gold',\n",
       "  'Gray',\n",
       "  'Green',\n",
       "  'Indigo',\n",
       "  'Lavender',\n",
       "  'Magenta',\n",
       "  'Maroon',\n",
       "  'Olive',\n",
       "  'Orange',\n",
       "  'Peach',\n",
       "  'Pink',\n",
       "  'Purple',\n",
       "  'Red',\n",
       "  'Silver',\n",
       "  'Teal',\n",
       "  'Turquoise',\n",
       "  'Violet',\n",
       "  'White',\n",
       "  'Yellow'],\n",
       " ['Fall', 'Spring', 'Summer', 'Winter'],\n",
       " ['No', 'Yes'],\n",
       " ['2-Day Shipping',\n",
       "  'Express',\n",
       "  'Free Shipping',\n",
       "  'Next Day Air',\n",
       "  'Standard',\n",
       "  'Store Pickup'],\n",
       " ['No', 'Yes'],\n",
       " ['No', 'Yes'],\n",
       " ['Bank Transfer', 'Cash', 'Credit Card', 'Debit Card', 'PayPal', 'Venmo'],\n",
       " ['Annually',\n",
       "  'Bi-Weekly',\n",
       "  'Every 3 Months',\n",
       "  'Fortnightly',\n",
       "  'Monthly',\n",
       "  'Quarterly',\n",
       "  'Weekly'],\n",
       " ['Cash', 'Credit Debit Cards', 'Payment Services'],\n",
       " ['No', 'Yes']]"
      ]
     },
     "execution_count": 27,
     "metadata": {},
     "output_type": "execute_result"
    }
   ],
   "source": [
    "## \n",
    "label_list"
   ]
  },
  {
   "cell_type": "code",
   "execution_count": 28,
   "id": "f9260e36",
   "metadata": {
    "execution": {
     "iopub.execute_input": "2023-12-18T07:37:42.585606Z",
     "iopub.status.busy": "2023-12-18T07:37:42.585168Z",
     "iopub.status.idle": "2023-12-18T07:37:43.152314Z",
     "shell.execute_reply": "2023-12-18T07:37:43.151290Z"
    },
    "papermill": {
     "duration": 0.587385,
     "end_time": "2023-12-18T07:37:43.155184",
     "exception": false,
     "start_time": "2023-12-18T07:37:42.567799",
     "status": "completed"
    },
    "tags": []
   },
   "outputs": [
    {
     "data": {
      "text/plain": [
       "<Axes: >"
      ]
     },
     "execution_count": 28,
     "metadata": {},
     "output_type": "execute_result"
    },
    {
     "data": {
      "image/png": "[encoded data removed]",
      "text/plain": [
       "<Figure size 640x480 with 2 Axes>"
      ]
     },
     "metadata": {},
     "output_type": "display_data"
    }
   ],
   "source": [
    "## zoom in on key attributes\n",
    "\n",
    "shopping_behavior_vector_corr = shopping_behavior_vector[['Age', 'Gender', 'Category','Location', 'Season', 'Shipping Type', 'Payment Category', 'Discount Promo Codes' ]]\n",
    "sns.heatmap(shopping_behavior_vector_corr.corr(), cmap=\"YlGnBu\", annot=True)"
   ]
  },
  {
   "cell_type": "code",
   "execution_count": 29,
   "id": "2e0289c5",
   "metadata": {
    "execution": {
     "iopub.execute_input": "2023-12-18T07:37:43.192735Z",
     "iopub.status.busy": "2023-12-18T07:37:43.192362Z",
     "iopub.status.idle": "2023-12-18T07:37:43.229808Z",
     "shell.execute_reply": "2023-12-18T07:37:43.228643Z"
    },
    "papermill": {
     "duration": 0.059134,
     "end_time": "2023-12-18T07:37:43.232256",
     "exception": false,
     "start_time": "2023-12-18T07:37:43.173122",
     "status": "completed"
    },
    "tags": []
   },
   "outputs": [
    {
     "data": {
      "text/html": [
       "<div>\n",
       "<style scoped>\n",
       "    .dataframe tbody tr th:only-of-type {\n",
       "        vertical-align: middle;\n",
       "    }\n",
       "\n",
       "    .dataframe tbody tr th {\n",
       "        vertical-align: top;\n",
       "    }\n",
       "\n",
       "    .dataframe thead th {\n",
       "        text-align: right;\n",
       "    }\n",
       "</style>\n",
       "<table border=\"1\" class=\"dataframe\">\n",
       "  <thead>\n",
       "    <tr style=\"text-align: right;\">\n",
       "      <th></th>\n",
       "      <th>Customer ID</th>\n",
       "      <th>Age</th>\n",
       "      <th>Gender</th>\n",
       "      <th>Item Purchased</th>\n",
       "      <th>Category</th>\n",
       "      <th>Purchase Amount (USD)</th>\n",
       "      <th>Location</th>\n",
       "      <th>Size</th>\n",
       "      <th>Color</th>\n",
       "      <th>Season</th>\n",
       "      <th>Review Rating</th>\n",
       "      <th>Subscription Status</th>\n",
       "      <th>Shipping Type</th>\n",
       "      <th>Discount Applied</th>\n",
       "      <th>Promo Code Used</th>\n",
       "      <th>Previous Purchases</th>\n",
       "      <th>Payment Method</th>\n",
       "      <th>Frequency of Purchases</th>\n",
       "      <th>Payment Category</th>\n",
       "      <th>Discount Promo Codes</th>\n",
       "    </tr>\n",
       "  </thead>\n",
       "  <tbody>\n",
       "    <tr>\n",
       "      <th>0</th>\n",
       "      <td>1</td>\n",
       "      <td>55</td>\n",
       "      <td>1</td>\n",
       "      <td>2</td>\n",
       "      <td>1</td>\n",
       "      <td>53</td>\n",
       "      <td>16</td>\n",
       "      <td>0</td>\n",
       "      <td>7</td>\n",
       "      <td>3</td>\n",
       "      <td>3.1</td>\n",
       "      <td>1</td>\n",
       "      <td>1</td>\n",
       "      <td>1</td>\n",
       "      <td>1</td>\n",
       "      <td>14</td>\n",
       "      <td>5</td>\n",
       "      <td>3</td>\n",
       "      <td>2</td>\n",
       "      <td>0</td>\n",
       "    </tr>\n",
       "    <tr>\n",
       "      <th>1</th>\n",
       "      <td>2</td>\n",
       "      <td>19</td>\n",
       "      <td>1</td>\n",
       "      <td>23</td>\n",
       "      <td>1</td>\n",
       "      <td>64</td>\n",
       "      <td>18</td>\n",
       "      <td>0</td>\n",
       "      <td>12</td>\n",
       "      <td>3</td>\n",
       "      <td>3.1</td>\n",
       "      <td>1</td>\n",
       "      <td>1</td>\n",
       "      <td>1</td>\n",
       "      <td>1</td>\n",
       "      <td>2</td>\n",
       "      <td>1</td>\n",
       "      <td>3</td>\n",
       "      <td>0</td>\n",
       "      <td>0</td>\n",
       "    </tr>\n",
       "    <tr>\n",
       "      <th>2</th>\n",
       "      <td>3</td>\n",
       "      <td>50</td>\n",
       "      <td>1</td>\n",
       "      <td>11</td>\n",
       "      <td>1</td>\n",
       "      <td>73</td>\n",
       "      <td>20</td>\n",
       "      <td>2</td>\n",
       "      <td>12</td>\n",
       "      <td>1</td>\n",
       "      <td>3.1</td>\n",
       "      <td>1</td>\n",
       "      <td>2</td>\n",
       "      <td>1</td>\n",
       "      <td>1</td>\n",
       "      <td>23</td>\n",
       "      <td>2</td>\n",
       "      <td>6</td>\n",
       "      <td>1</td>\n",
       "      <td>0</td>\n",
       "    </tr>\n",
       "    <tr>\n",
       "      <th>3</th>\n",
       "      <td>4</td>\n",
       "      <td>21</td>\n",
       "      <td>1</td>\n",
       "      <td>14</td>\n",
       "      <td>2</td>\n",
       "      <td>90</td>\n",
       "      <td>38</td>\n",
       "      <td>1</td>\n",
       "      <td>12</td>\n",
       "      <td>1</td>\n",
       "      <td>3.5</td>\n",
       "      <td>1</td>\n",
       "      <td>3</td>\n",
       "      <td>1</td>\n",
       "      <td>1</td>\n",
       "      <td>49</td>\n",
       "      <td>4</td>\n",
       "      <td>6</td>\n",
       "      <td>2</td>\n",
       "      <td>0</td>\n",
       "    </tr>\n",
       "    <tr>\n",
       "      <th>4</th>\n",
       "      <td>5</td>\n",
       "      <td>45</td>\n",
       "      <td>1</td>\n",
       "      <td>2</td>\n",
       "      <td>1</td>\n",
       "      <td>49</td>\n",
       "      <td>36</td>\n",
       "      <td>1</td>\n",
       "      <td>21</td>\n",
       "      <td>1</td>\n",
       "      <td>2.7</td>\n",
       "      <td>1</td>\n",
       "      <td>2</td>\n",
       "      <td>1</td>\n",
       "      <td>1</td>\n",
       "      <td>31</td>\n",
       "      <td>4</td>\n",
       "      <td>0</td>\n",
       "      <td>2</td>\n",
       "      <td>0</td>\n",
       "    </tr>\n",
       "    <tr>\n",
       "      <th>...</th>\n",
       "      <td>...</td>\n",
       "      <td>...</td>\n",
       "      <td>...</td>\n",
       "      <td>...</td>\n",
       "      <td>...</td>\n",
       "      <td>...</td>\n",
       "      <td>...</td>\n",
       "      <td>...</td>\n",
       "      <td>...</td>\n",
       "      <td>...</td>\n",
       "      <td>...</td>\n",
       "      <td>...</td>\n",
       "      <td>...</td>\n",
       "      <td>...</td>\n",
       "      <td>...</td>\n",
       "      <td>...</td>\n",
       "      <td>...</td>\n",
       "      <td>...</td>\n",
       "      <td>...</td>\n",
       "      <td>...</td>\n",
       "    </tr>\n",
       "    <tr>\n",
       "      <th>3895</th>\n",
       "      <td>3896</td>\n",
       "      <td>40</td>\n",
       "      <td>0</td>\n",
       "      <td>9</td>\n",
       "      <td>1</td>\n",
       "      <td>28</td>\n",
       "      <td>45</td>\n",
       "      <td>0</td>\n",
       "      <td>21</td>\n",
       "      <td>2</td>\n",
       "      <td>4.2</td>\n",
       "      <td>0</td>\n",
       "      <td>0</td>\n",
       "      <td>0</td>\n",
       "      <td>0</td>\n",
       "      <td>32</td>\n",
       "      <td>5</td>\n",
       "      <td>6</td>\n",
       "      <td>2</td>\n",
       "      <td>1</td>\n",
       "    </tr>\n",
       "    <tr>\n",
       "      <th>3896</th>\n",
       "      <td>3897</td>\n",
       "      <td>52</td>\n",
       "      <td>0</td>\n",
       "      <td>0</td>\n",
       "      <td>0</td>\n",
       "      <td>49</td>\n",
       "      <td>14</td>\n",
       "      <td>0</td>\n",
       "      <td>23</td>\n",
       "      <td>1</td>\n",
       "      <td>4.5</td>\n",
       "      <td>0</td>\n",
       "      <td>5</td>\n",
       "      <td>0</td>\n",
       "      <td>0</td>\n",
       "      <td>41</td>\n",
       "      <td>0</td>\n",
       "      <td>1</td>\n",
       "      <td>0</td>\n",
       "      <td>1</td>\n",
       "    </tr>\n",
       "    <tr>\n",
       "      <th>3897</th>\n",
       "      <td>3898</td>\n",
       "      <td>46</td>\n",
       "      <td>0</td>\n",
       "      <td>1</td>\n",
       "      <td>0</td>\n",
       "      <td>33</td>\n",
       "      <td>29</td>\n",
       "      <td>0</td>\n",
       "      <td>8</td>\n",
       "      <td>1</td>\n",
       "      <td>2.9</td>\n",
       "      <td>0</td>\n",
       "      <td>4</td>\n",
       "      <td>0</td>\n",
       "      <td>0</td>\n",
       "      <td>24</td>\n",
       "      <td>5</td>\n",
       "      <td>5</td>\n",
       "      <td>2</td>\n",
       "      <td>1</td>\n",
       "    </tr>\n",
       "    <tr>\n",
       "      <th>3898</th>\n",
       "      <td>3899</td>\n",
       "      <td>44</td>\n",
       "      <td>0</td>\n",
       "      <td>17</td>\n",
       "      <td>2</td>\n",
       "      <td>77</td>\n",
       "      <td>22</td>\n",
       "      <td>2</td>\n",
       "      <td>3</td>\n",
       "      <td>2</td>\n",
       "      <td>3.8</td>\n",
       "      <td>0</td>\n",
       "      <td>1</td>\n",
       "      <td>0</td>\n",
       "      <td>0</td>\n",
       "      <td>24</td>\n",
       "      <td>5</td>\n",
       "      <td>6</td>\n",
       "      <td>2</td>\n",
       "      <td>1</td>\n",
       "    </tr>\n",
       "    <tr>\n",
       "      <th>3899</th>\n",
       "      <td>3900</td>\n",
       "      <td>52</td>\n",
       "      <td>0</td>\n",
       "      <td>7</td>\n",
       "      <td>0</td>\n",
       "      <td>81</td>\n",
       "      <td>4</td>\n",
       "      <td>1</td>\n",
       "      <td>0</td>\n",
       "      <td>1</td>\n",
       "      <td>3.1</td>\n",
       "      <td>0</td>\n",
       "      <td>5</td>\n",
       "      <td>0</td>\n",
       "      <td>0</td>\n",
       "      <td>33</td>\n",
       "      <td>5</td>\n",
       "      <td>5</td>\n",
       "      <td>2</td>\n",
       "      <td>1</td>\n",
       "    </tr>\n",
       "  </tbody>\n",
       "</table>\n",
       "<p>3900 rows × 20 columns</p>\n",
       "</div>"
      ],
      "text/plain": [
       "      Customer ID  Age  Gender  Item Purchased  Category  \\\n",
       "0               1   55       1               2         1   \n",
       "1               2   19       1              23         1   \n",
       "2               3   50       1              11         1   \n",
       "3               4   21       1              14         2   \n",
       "4               5   45       1               2         1   \n",
       "...           ...  ...     ...             ...       ...   \n",
       "3895         3896   40       0               9         1   \n",
       "3896         3897   52       0               0         0   \n",
       "3897         3898   46       0               1         0   \n",
       "3898         3899   44       0              17         2   \n",
       "3899         3900   52       0               7         0   \n",
       "\n",
       "      Purchase Amount (USD)  Location  Size  Color  Season  Review Rating  \\\n",
       "0                        53        16     0      7       3            3.1   \n",
       "1                        64        18     0     12       3            3.1   \n",
       "2                        73        20     2     12       1            3.1   \n",
       "3                        90        38     1     12       1            3.5   \n",
       "4                        49        36     1     21       1            2.7   \n",
       "...                     ...       ...   ...    ...     ...            ...   \n",
       "3895                     28        45     0     21       2            4.2   \n",
       "3896                     49        14     0     23       1            4.5   \n",
       "3897                     33        29     0      8       1            2.9   \n",
       "3898                     77        22     2      3       2            3.8   \n",
       "3899                     81         4     1      0       1            3.1   \n",
       "\n",
       "      Subscription Status  Shipping Type  Discount Applied  Promo Code Used  \\\n",
       "0                       1              1                 1                1   \n",
       "1                       1              1                 1                1   \n",
       "2                       1              2                 1                1   \n",
       "3                       1              3                 1                1   \n",
       "4                       1              2                 1                1   \n",
       "...                   ...            ...               ...              ...   \n",
       "3895                    0              0                 0                0   \n",
       "3896                    0              5                 0                0   \n",
       "3897                    0              4                 0                0   \n",
       "3898                    0              1                 0                0   \n",
       "3899                    0              5                 0                0   \n",
       "\n",
       "      Previous Purchases  Payment Method  Frequency of Purchases  \\\n",
       "0                     14               5                       3   \n",
       "1                      2               1                       3   \n",
       "2                     23               2                       6   \n",
       "3                     49               4                       6   \n",
       "4                     31               4                       0   \n",
       "...                  ...             ...                     ...   \n",
       "3895                  32               5                       6   \n",
       "3896                  41               0                       1   \n",
       "3897                  24               5                       5   \n",
       "3898                  24               5                       6   \n",
       "3899                  33               5                       5   \n",
       "\n",
       "      Payment Category  Discount Promo Codes  \n",
       "0                    2                     0  \n",
       "1                    0                     0  \n",
       "2                    1                     0  \n",
       "3                    2                     0  \n",
       "4                    2                     0  \n",
       "...                ...                   ...  \n",
       "3895                 2                     1  \n",
       "3896                 0                     1  \n",
       "3897                 2                     1  \n",
       "3898                 2                     1  \n",
       "3899                 2                     1  \n",
       "\n",
       "[3900 rows x 20 columns]"
      ]
     },
     "execution_count": 29,
     "metadata": {},
     "output_type": "execute_result"
    }
   ],
   "source": [
    "shopping_behavior_vector"
   ]
  },
  {
   "cell_type": "code",
   "execution_count": null,
   "id": "514588f4",
   "metadata": {
    "papermill": {
     "duration": 0.018219,
     "end_time": "2023-12-18T07:37:43.268621",
     "exception": false,
     "start_time": "2023-12-18T07:37:43.250402",
     "status": "completed"
    },
    "tags": []
   },
   "outputs": [],
   "source": []
  }
 ],
 "metadata": {
  "kaggle": {
   "accelerator": "none",
   "dataSources": [
    {
     "datasetId": 3881446,
     "sourceId": 6740173,
     "sourceType": "datasetVersion"
    }
   ],
   "dockerImageVersionId": 30626,
   "isGpuEnabled": false,
   "isInternetEnabled": true,
   "language": "python",
   "sourceType": "notebook"
  },
  "kernelspec": {
   "display_name": "Python 3",
   "language": "python",
   "name": "python3"
  },
  "language_info": {
   "codemirror_mode": {
    "name": "ipython",
    "version": 3
   },
   "file_extension": ".py",
   "mimetype": "text/x-python",
   "name": "python",
   "nbconvert_exporter": "python",
   "pygments_lexer": "ipython3",
   "version": "3.10.12"
  },
  "papermill": {
   "default_parameters": {},
   "duration": 12.019408,
   "end_time": "2023-12-18T07:37:44.008453",
   "environment_variables": {},
   "exception": null,
   "input_path": "__notebook__.ipynb",
   "output_path": "__notebook__.ipynb",
   "parameters": {},
   "start_time": "2023-12-18T07:37:31.989045",
   "version": "2.4.0"
  }
 },
 "nbformat": 4,
 "nbformat_minor": 5
}
